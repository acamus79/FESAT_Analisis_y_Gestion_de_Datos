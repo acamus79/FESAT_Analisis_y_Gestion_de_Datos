{
  "nbformat": 4,
  "nbformat_minor": 0,
  "metadata": {
    "colab": {
      "name": "PracticaClasePython2.ipynb",
      "provenance": [],
      "authorship_tag": "ABX9TyOKkUWX+w+ywhfN+Fc/C1N/",
      "include_colab_link": true
    },
    "kernelspec": {
      "name": "python3",
      "display_name": "Python 3"
    },
    "language_info": {
      "name": "python"
    }
  },
  "cells": [
    {
      "cell_type": "markdown",
      "metadata": {
        "id": "view-in-github",
        "colab_type": "text"
      },
      "source": [
        "<a href=\"https://colab.research.google.com/github/acamus79/FESAT_Analisis_y_Gestion_de_Datos/blob/main/PracticaClasePython2.ipynb\" target=\"_parent\"><img src=\"https://colab.research.google.com/assets/colab-badge.svg\" alt=\"Open In Colab\"/></a>"
      ]
    },
    {
      "cell_type": "markdown",
      "source": [
        "1-Generar dos arreglos de tipo entero.\n",
        "2-Sumarlos entre ellos.\n",
        "3-Sumar 2 a cada elemento del arreglo.\n"
      ],
      "metadata": {
        "id": "WKJzRZEr4vzg"
      }
    },
    {
      "cell_type": "code",
      "execution_count": null,
      "metadata": {
        "id": "VhCN-2MN4u04"
      },
      "outputs": [],
      "source": [
        "import numpy as np\n"
      ]
    },
    {
      "cell_type": "code",
      "source": [
        "arreglo1 = np.array([1,3,7,9])\n",
        "arreglo2 = np.array([2,4,8,10])"
      ],
      "metadata": {
        "id": "O04uq2fX6M0h"
      },
      "execution_count": null,
      "outputs": []
    },
    {
      "cell_type": "code",
      "source": [
        "arreglo1+arreglo2"
      ],
      "metadata": {
        "colab": {
          "base_uri": "https://localhost:8080/"
        },
        "id": "tY_UKP4c7PuK",
        "outputId": "42d6a636-ceaa-43e8-b579-58aa26bc631b"
      },
      "execution_count": null,
      "outputs": [
        {
          "output_type": "execute_result",
          "data": {
            "text/plain": [
              "array([ 3,  7, 15, 19])"
            ]
          },
          "metadata": {},
          "execution_count": 15
        }
      ]
    },
    {
      "cell_type": "code",
      "source": [
        "arreglo1+2"
      ],
      "metadata": {
        "colab": {
          "base_uri": "https://localhost:8080/"
        },
        "id": "VeuUz2GY7ThN",
        "outputId": "d7324653-30b8-4882-e539-63142d3e8cd5"
      },
      "execution_count": null,
      "outputs": [
        {
          "output_type": "execute_result",
          "data": {
            "text/plain": [
              "array([ 3,  5,  9, 11])"
            ]
          },
          "metadata": {},
          "execution_count": 12
        }
      ]
    },
    {
      "cell_type": "markdown",
      "source": [
        ""
      ],
      "metadata": {
        "id": "u8a7wi4d7_Q6"
      }
    },
    {
      "cell_type": "code",
      "source": [
        "arreglo2+2"
      ],
      "metadata": {
        "colab": {
          "base_uri": "https://localhost:8080/"
        },
        "id": "RkTbxmiP7VIU",
        "outputId": "07c8a2f5-515c-4741-c6ce-eaffb3062899"
      },
      "execution_count": null,
      "outputs": [
        {
          "output_type": "execute_result",
          "data": {
            "text/plain": [
              "array([ 4,  6, 10, 12])"
            ]
          },
          "metadata": {},
          "execution_count": 14
        }
      ]
    }
  ]
}