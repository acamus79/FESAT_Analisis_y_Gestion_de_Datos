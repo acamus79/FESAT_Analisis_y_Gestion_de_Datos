{
  "cells": [
    {
      "cell_type": "markdown",
      "metadata": {
        "id": "Gvo3KH8mT5A6"
      },
      "source": [
        "### Introducción a Numpy - Librería de Python para realizar cálculos numéricos en Python"
      ]
    },
    {
      "cell_type": "markdown",
      "metadata": {
        "id": "wKkHGpOtT5A-"
      },
      "source": [
        "#### Primero tenemos que importar la libreria usando `import`. Para evitar escribir `numpy` cada vez usamos una función que nos permite asignarle un alias `as`:"
      ]
    },
    {
      "cell_type": "code",
      "execution_count": null,
      "metadata": {
        "id": "hvc3r8x-T5A_"
      },
      "outputs": [],
      "source": [
        "import numpy as np"
      ]
    },
    {
      "cell_type": "markdown",
      "metadata": {
        "id": "cmK1kNoHT5BA"
      },
      "source": [
        "#### Ahora tenemos acceso a todas las funciones disponibles en  `numpy` tipeando `np.name_of_function`.  Por ejemplo, la operación `1 + 1` en Python se puede realizar en `numpy` de la siguente manera:"
      ]
    },
    {
      "cell_type": "code",
      "execution_count": null,
      "metadata": {
        "colab": {
          "base_uri": "https://localhost:8080/"
        },
        "id": "TZmp4y-PT5BA",
        "outputId": "393567ba-3281-42f2-cad1-c519c9e2d74c"
      },
      "outputs": [
        {
          "output_type": "execute_result",
          "data": {
            "text/plain": [
              "2"
            ]
          },
          "metadata": {},
          "execution_count": 19
        }
      ],
      "source": [
        "np.add(1,1)"
      ]
    },
    {
      "cell_type": "markdown",
      "metadata": {
        "id": "3LYxSoEsT5BB"
      },
      "source": [
        "##### Aunque no parezca muy útil, estas operaciones pueden ser mucho más rápidas en `numpy` que en Python cuando se usan muchos números. "
      ]
    },
    {
      "cell_type": "markdown",
      "metadata": {
        "id": "UkxZcwbrT5BB"
      },
      "source": [
        "#### Para acceder a la documentación que explica cómo se usa una función, cuáles son sus parámetros de entrada y de salida, hay que poner `Shift+Tab` después del nombre de la función"
      ]
    },
    {
      "cell_type": "code",
      "execution_count": null,
      "metadata": {
        "colab": {
          "base_uri": "https://localhost:8080/"
        },
        "id": "WDKrS3tcT5BC",
        "outputId": "332cdac7-0db6-4a39-d416-01dbd7b9eb61"
      },
      "outputs": [
        {
          "output_type": "execute_result",
          "data": {
            "text/plain": [
              "<ufunc 'add'>"
            ]
          },
          "metadata": {},
          "execution_count": 12
        }
      ],
      "source": [
        "np.add"
      ]
    },
    {
      "cell_type": "markdown",
      "metadata": {
        "id": "VpGQleMhT5BC"
      },
      "source": [
        "#### Por default se muestra el resultado de la función u operación al ejecutar la celda "
      ]
    },
    {
      "cell_type": "code",
      "execution_count": null,
      "metadata": {
        "colab": {
          "base_uri": "https://localhost:8080/"
        },
        "id": "12ZL4GDfT5BD",
        "outputId": "9dbd50e2-7a65-4fe8-94c0-e785ec2d6fe2"
      },
      "outputs": [
        {
          "output_type": "execute_result",
          "data": {
            "text/plain": [
              "5"
            ]
          },
          "metadata": {},
          "execution_count": 8
        }
      ],
      "source": [
        "np.add(2,3)"
      ]
    },
    {
      "cell_type": "markdown",
      "metadata": {
        "id": "faaQvoNnT5BD"
      },
      "source": [
        "#### Si se va a reutilizar el resultado después se puede asignar el resultado a una variable"
      ]
    },
    {
      "cell_type": "code",
      "execution_count": null,
      "metadata": {
        "id": "Z1sPJctYT5BD"
      },
      "outputs": [],
      "source": [
        "a = np.add(2,3)"
      ]
    },
    {
      "cell_type": "markdown",
      "metadata": {
        "id": "om3f4x1BT5BE"
      },
      "source": [
        "#### El contenido de esta variable se puede mostrar en cualquier momento tipieando el nombre de la variable en una nueva celda"
      ]
    },
    {
      "cell_type": "code",
      "execution_count": null,
      "metadata": {
        "colab": {
          "base_uri": "https://localhost:8080/"
        },
        "id": "N9S6O9GAT5BE",
        "outputId": "1c2cdb43-a16b-44fa-d1a6-57d6c98e29b0"
      },
      "outputs": [
        {
          "output_type": "execute_result",
          "data": {
            "text/plain": [
              "5"
            ]
          },
          "metadata": {},
          "execution_count": 10
        }
      ],
      "source": [
        "a"
      ]
    },
    {
      "cell_type": "markdown",
      "metadata": {
        "id": "dwNaYAUxT5BE"
      },
      "source": [
        "#### Uno de los conceptos más poderosos en numpy son los `arrays`  (o arreglos) que son equivalentes a listas de números. Para declarar un array de numpy:"
      ]
    },
    {
      "cell_type": "code",
      "execution_count": null,
      "metadata": {
        "colab": {
          "base_uri": "https://localhost:8080/"
        },
        "id": "KHvi6rEHT5BF",
        "outputId": "7a8c5663-e650-45cf-9538-c1b8e5669d15"
      },
      "outputs": [
        {
          "output_type": "execute_result",
          "data": {
            "text/plain": [
              "array([1, 2, 3, 4, 5, 6, 7, 8, 9])"
            ]
          },
          "metadata": {},
          "execution_count": 11
        }
      ],
      "source": [
        "np.array([1,2,3,4,5,6,7,8,9])"
      ]
    },
    {
      "cell_type": "markdown",
      "metadata": {
        "id": "V8ZNyhJtT5BF"
      },
      "source": [
        "#### La mayoría de las funciones y operaciones definidas en numpy pueden aplicarse a arrays. Por ejemplo, con la operación de recién:"
      ]
    },
    {
      "cell_type": "code",
      "execution_count": null,
      "metadata": {
        "colab": {
          "base_uri": "https://localhost:8080/"
        },
        "id": "Akn6pK3HT5BF",
        "outputId": "83ba1270-68fe-4fe3-e45c-6aa9de727df5"
      },
      "outputs": [
        {
          "output_type": "execute_result",
          "data": {
            "text/plain": [
              "array([ 4,  6,  8, 10])"
            ]
          },
          "metadata": {},
          "execution_count": 14
        }
      ],
      "source": [
        "arr1 = np.array([1,2,3,4])\n",
        "arr2 = np.array([3,4,5,6])\n",
        "\n",
        "np.add(arr1, arr2)"
      ]
    },
    {
      "cell_type": "markdown",
      "metadata": {
        "id": "bvTOhBKKT5BG"
      },
      "source": [
        "#### Ejercicio: Definimos un array con un elemento más (arr3) y vean qué pasa si queremos hacer la suma arr1+arr3. Normalmente los arrays tienene que tener las mismas dimensiones "
      ]
    },
    {
      "cell_type": "code",
      "execution_count": null,
      "metadata": {
        "id": "4aDpzKq0T5BG"
      },
      "outputs": [],
      "source": [
        "arr3= np.array([1,2,3,4,5])"
      ]
    },
    {
      "cell_type": "code",
      "execution_count": null,
      "metadata": {
        "colab": {
          "base_uri": "https://localhost:8080/",
          "height": 169
        },
        "id": "c2p-tqlRT5BG",
        "outputId": "dc79c08e-aa09-4c2f-a020-48b75d064942"
      },
      "outputs": [
        {
          "output_type": "error",
          "ename": "ValueError",
          "evalue": "ignored",
          "traceback": [
            "\u001b[0;31m---------------------------------------------------------------------------\u001b[0m",
            "\u001b[0;31mValueError\u001b[0m                                Traceback (most recent call last)",
            "\u001b[0;32m<ipython-input-16-76273358d4ce>\u001b[0m in \u001b[0;36m<module>\u001b[0;34m()\u001b[0m\n\u001b[0;32m----> 1\u001b[0;31m \u001b[0marr1\u001b[0m\u001b[0;34m+\u001b[0m\u001b[0marr3\u001b[0m\u001b[0;34m\u001b[0m\u001b[0;34m\u001b[0m\u001b[0m\n\u001b[0m",
            "\u001b[0;31mValueError\u001b[0m: operands could not be broadcast together with shapes (4,) (5,) "
          ]
        }
      ],
      "source": [
        "arr1+arr3"
      ]
    },
    {
      "cell_type": "markdown",
      "source": [
        "1-Generar dos arreglos de tipo entero.\n",
        "2-Sumarlos entre ellos.\n",
        "3-Sumar 2 a cada elemento del arreglo.\n"
      ],
      "metadata": {
        "id": "QlKrAT8_3-6x"
      }
    },
    {
      "cell_type": "markdown",
      "metadata": {
        "id": "p4GUedN9T5BG"
      },
      "source": [
        "#### Ejercicio: qué pasa si hacemos arr1+1?"
      ]
    },
    {
      "cell_type": "code",
      "execution_count": null,
      "metadata": {
        "id": "0_hkjdX8T5BG",
        "outputId": "e12e37b5-efe7-4a4c-d17c-fae34b4c62a1"
      },
      "outputs": [
        {
          "data": {
            "text/plain": [
              "array([2, 3, 4, 5])"
            ]
          },
          "execution_count": 12,
          "metadata": {},
          "output_type": "execute_result"
        }
      ],
      "source": [
        "arr1 + 1"
      ]
    },
    {
      "cell_type": "code",
      "source": [
        " np.add (arr1, 2) \n"
      ],
      "metadata": {
        "colab": {
          "base_uri": "https://localhost:8080/"
        },
        "id": "YF4y3vtn7Hjv",
        "outputId": "8f0a566b-4744-4b3d-f6c0-73a1a38fb5a8"
      },
      "execution_count": null,
      "outputs": [
        {
          "output_type": "execute_result",
          "data": {
            "text/plain": [
              "array([3, 4, 5, 6])"
            ]
          },
          "metadata": {},
          "execution_count": 20
        }
      ]
    },
    {
      "cell_type": "markdown",
      "metadata": {
        "id": "DdldrMv5T5BH"
      },
      "source": [
        "#### Los arreglos se pueden recortar. Nos podemos quedar con subsets del array usando la siguiente notación`[start:end:stride]`. Veamos un ejemplo:"
      ]
    },
    {
      "cell_type": "code",
      "execution_count": null,
      "metadata": {
        "id": "PpdTuVBFT5BH",
        "outputId": "d9592526-4227-489b-b7c6-f351358edc58"
      },
      "outputs": [
        {
          "name": "stdout",
          "output_type": "stream",
          "text": [
            "5\n",
            "[ 5  6  7  8  9 10 11 12 13 14 15]\n",
            "[0 1 2 3 4]\n",
            "[ 0  2  4  6  8 10 12 14]\n"
          ]
        }
      ],
      "source": [
        "arr = np.array([0,1,2,3,4,5,6,7,8,9,10,11,12,13,14,15])\n",
        "\n",
        "print(arr[5])\n",
        "print(arr[5:])\n",
        "print(arr[:5])\n",
        "print(arr[::2])"
      ]
    },
    {
      "cell_type": "markdown",
      "metadata": {
        "id": "mITZuxowT5BH"
      },
      "source": [
        "##### Experimenten jugando con los índices para entender el significado de start, end y stride. Qué pasa si no especifican el start? Qué valor usa numpy como default? NOTA: el primer índice en numpy es `0`, la misma convención se usa en las listas de Python."
      ]
    },
    {
      "cell_type": "markdown",
      "metadata": {
        "id": "5oJ6W1ElT5BH"
      },
      "source": [
        "#### Los arreglos de Numpy arrays pueden tener múltiples dimensiones. Por ejemplo, para definir un `column` array: "
      ]
    },
    {
      "cell_type": "code",
      "execution_count": null,
      "metadata": {
        "id": "_Zu1NXkzT5BH",
        "outputId": "5261f6cf-57b5-4f5f-e548-8df630caca43"
      },
      "outputs": [
        {
          "data": {
            "text/plain": [
              "array([[1, 2, 3, 4, 5, 6, 7, 8, 9]])"
            ]
          },
          "execution_count": 14,
          "metadata": {},
          "output_type": "execute_result"
        }
      ],
      "source": [
        "np.array([[1,2,3,4,5,6,7,8,9]])"
      ]
    },
    {
      "cell_type": "code",
      "execution_count": null,
      "metadata": {
        "id": "t6HjWERAT5BI",
        "outputId": "1b805d9e-b8b5-411a-b37d-caa9effc66e9"
      },
      "outputs": [
        {
          "name": "stdout",
          "output_type": "stream",
          "text": [
            "4\n",
            "[8 9]\n"
          ]
        }
      ],
      "source": [
        "arre = np.array([1,2,3,4,5,6,7,8,9])\n",
        "print(arre[3])\n",
        "print(arre[7:])"
      ]
    },
    {
      "cell_type": "markdown",
      "metadata": {
        "id": "SfNbK5LKT5BI"
      },
      "source": [
        "#### Para visualizar la forma o dimensiones del arreglo de numpy hay que agregar el sufijo`.shape`"
      ]
    },
    {
      "cell_type": "code",
      "execution_count": null,
      "metadata": {
        "id": "A8Xnpr_1T5BI",
        "outputId": "c6a82f27-788a-4014-93ac-be3985e0c0b4"
      },
      "outputs": [
        {
          "name": "stdout",
          "output_type": "stream",
          "text": [
            "(9,)\n",
            "(1, 9)\n"
          ]
        }
      ],
      "source": [
        "print(np.array([1,2,3,4,5,6,7,8,9]).shape)\n",
        "print(np.array([[1,2,3,4,5,6,7,8,9]]).shape)"
      ]
    },
    {
      "cell_type": "markdown",
      "metadata": {
        "id": "vTVw2-LmT5BI"
      },
      "source": [
        "##### Para definir una rreglo de dos dimensiones:"
      ]
    },
    {
      "cell_type": "code",
      "execution_count": null,
      "metadata": {
        "id": "kGb7qqJ2T5BI",
        "outputId": "d955d67c-4ed8-48c5-e6fa-741f432e864d"
      },
      "outputs": [
        {
          "data": {
            "text/plain": [
              "array([[1, 2, 3, 4],\n",
              "       [5, 6, 7, 8]])"
            ]
          },
          "execution_count": 27,
          "metadata": {},
          "output_type": "execute_result"
        }
      ],
      "source": [
        "np.array([[1,2,3,4],[5,6,7,8]])"
      ]
    },
    {
      "cell_type": "code",
      "execution_count": null,
      "metadata": {
        "id": "pI1NoR7-T5BI",
        "outputId": "96e9b2e2-9274-4f63-8b2f-e1a12b36cd82"
      },
      "outputs": [
        {
          "name": "stdout",
          "output_type": "stream",
          "text": [
            "(2, 4)\n"
          ]
        }
      ],
      "source": [
        "print(np.array([[1,2,3,4],[5,6,7,8]]).shape)"
      ]
    },
    {
      "cell_type": "markdown",
      "metadata": {
        "id": "oXAIz1rnT5BJ"
      },
      "source": [
        "#### Se pueden reordenar los datos del arreglo a diferentes formas con la función `reshape`:"
      ]
    },
    {
      "cell_type": "code",
      "execution_count": null,
      "metadata": {
        "id": "IuYRBkJjT5BJ",
        "outputId": "86fffc94-0eba-449a-fe36-3abd14d0621d"
      },
      "outputs": [
        {
          "data": {
            "text/plain": [
              "array([[1, 2, 3, 4],\n",
              "       [5, 6, 7, 8]])"
            ]
          },
          "execution_count": 31,
          "metadata": {},
          "output_type": "execute_result"
        }
      ],
      "source": [
        "np.array([1,2,3,4,5,6,7,8]).reshape((2,4))"
      ]
    },
    {
      "cell_type": "markdown",
      "metadata": {
        "id": "XvnCLjR-T5BJ"
      },
      "source": [
        "#### Definan un arreglo de 3 dimensiones con la forma  (5,3,3)"
      ]
    },
    {
      "cell_type": "code",
      "execution_count": null,
      "metadata": {
        "id": "7-Mfwzr3T5BJ",
        "outputId": "358482ae-74cc-4592-a0fe-bf777540236e"
      },
      "outputs": [
        {
          "name": "stdout",
          "output_type": "stream",
          "text": [
            "[5. 4. 3.]\n"
          ]
        }
      ],
      "source": [
        "\n",
        "practica = np.linspace(5, 3, 3)\n",
        "print(practica)\n"
      ]
    },
    {
      "cell_type": "markdown",
      "metadata": {
        "id": "DHaxNYSMT5BJ"
      },
      "source": [
        "#### Creen otro y usen la función de numpy para sumar ambos arrays:"
      ]
    },
    {
      "cell_type": "code",
      "execution_count": null,
      "metadata": {
        "id": "G3meicIdT5BJ",
        "outputId": "81183465-ec0b-4332-adfc-2d3781cf3452"
      },
      "outputs": [
        {
          "ename": "ValueError",
          "evalue": "only 2 non-keyword arguments accepted",
          "output_type": "error",
          "traceback": [
            "\u001b[1;31m---------------------------------------------------------------------------\u001b[0m",
            "\u001b[1;31mValueError\u001b[0m                                Traceback (most recent call last)",
            "\u001b[1;32m<ipython-input-38-d8430fd8737c>\u001b[0m in \u001b[0;36m<module>\u001b[1;34m\u001b[0m\n\u001b[1;32m----> 1\u001b[1;33m \u001b[0marre\u001b[0m \u001b[1;33m=\u001b[0m \u001b[0mnp\u001b[0m\u001b[1;33m.\u001b[0m\u001b[0marray\u001b[0m\u001b[1;33m(\u001b[0m\u001b[1;33m[\u001b[0m\u001b[1;36m10\u001b[0m\u001b[1;33m,\u001b[0m\u001b[1;36m20\u001b[0m\u001b[1;33m,\u001b[0m\u001b[1;36m30\u001b[0m\u001b[1;33m]\u001b[0m\u001b[1;33m,\u001b[0m\u001b[1;33m[\u001b[0m\u001b[1;36m40\u001b[0m\u001b[1;33m,\u001b[0m\u001b[1;36m50\u001b[0m\u001b[1;33m,\u001b[0m\u001b[1;36m60\u001b[0m\u001b[1;33m]\u001b[0m\u001b[1;33m,\u001b[0m\u001b[1;33m[\u001b[0m\u001b[1;36m70\u001b[0m\u001b[1;33m,\u001b[0m\u001b[1;36m80\u001b[0m\u001b[1;33m,\u001b[0m\u001b[1;36m90\u001b[0m\u001b[1;33m]\u001b[0m\u001b[1;33m)\u001b[0m\u001b[1;33m\u001b[0m\u001b[1;33m\u001b[0m\u001b[0m\n\u001b[0m\u001b[0;32m      2\u001b[0m \u001b[0mpractica\u001b[0m \u001b[1;33m+\u001b[0m \u001b[0marre\u001b[0m\u001b[1;33m\u001b[0m\u001b[1;33m\u001b[0m\u001b[0m\n",
            "\u001b[1;31mValueError\u001b[0m: only 2 non-keyword arguments accepted"
          ]
        }
      ],
      "source": [
        "arre = np.array([10,20,30],[40,50,60],[70,80,90])\n",
        "practica + arre"
      ]
    },
    {
      "cell_type": "markdown",
      "metadata": {
        "id": "cw-9xKAxT5BK"
      },
      "source": [
        "### Cómo extraer items que satisfacen una cierta condición en un array 1D?"
      ]
    },
    {
      "cell_type": "code",
      "execution_count": null,
      "metadata": {
        "id": "KpxKPkmDT5BK"
      },
      "outputs": [],
      "source": [
        "arr = np.array([0, 1, 2, 3, 4, 5, 6, 7, 8, 9]) \n"
      ]
    },
    {
      "cell_type": "markdown",
      "metadata": {
        "id": "ZL30nxhuT5BK"
      },
      "source": [
        "####  Extraer los números impares de arr "
      ]
    },
    {
      "cell_type": "code",
      "execution_count": null,
      "metadata": {
        "id": "3ldWshVWT5BK",
        "outputId": "92aadbbc-8af2-4dae-b1b5-e48ac05ca3d8"
      },
      "outputs": [
        {
          "data": {
            "text/plain": [
              "array([ 1,  3,  5,  7,  9, 11, 13, 15])"
            ]
          },
          "execution_count": 39,
          "metadata": {},
          "output_type": "execute_result"
        }
      ],
      "source": [
        "arr[arr % 2 == 1]"
      ]
    },
    {
      "cell_type": "code",
      "execution_count": null,
      "metadata": {
        "id": "e_5T0eICT5BK"
      },
      "outputs": [],
      "source": [
        "x = np.array([1, 2, 3, 4, 5])\n"
      ]
    },
    {
      "cell_type": "code",
      "execution_count": null,
      "metadata": {
        "id": "Q_-KugOFT5BK",
        "outputId": "c0495c6b-eec7-45b1-f0c4-57b2f53ad743"
      },
      "outputs": [
        {
          "data": {
            "text/plain": [
              "array([ True,  True, False, False, False])"
            ]
          },
          "execution_count": 3,
          "metadata": {},
          "output_type": "execute_result"
        }
      ],
      "source": [
        "x = np.array([1, 2, 3, 4, 5])\n",
        "x < 3  # less than\n"
      ]
    },
    {
      "cell_type": "markdown",
      "metadata": {
        "id": "WlofMpAOT5BK"
      },
      "source": [
        "\n",
        "### Operador :\tFunción equivalente\t\t\n",
        "* \"!=\"\t:\tnp.not_equal\n",
        "* \"<\"\t:\tnp.less\t\t\n",
        "* \"<=\" :\tnp.less_equal\n",
        "* \">\"\t:\tnp.greater\t\n",
        "* \">=\" :\tnp.greater_equal"
      ]
    },
    {
      "cell_type": "code",
      "execution_count": null,
      "metadata": {
        "id": "nT0Kk4xPT5BL",
        "outputId": "dc1e3fcd-e80d-4500-f6dd-e158188a2b9f"
      },
      "outputs": [
        {
          "data": {
            "text/plain": [
              "array([[5, 0, 3, 3],\n",
              "       [7, 9, 3, 5],\n",
              "       [2, 4, 7, 6]])"
            ]
          },
          "execution_count": 41,
          "metadata": {},
          "output_type": "execute_result"
        }
      ],
      "source": [
        "rng = np.random.RandomState(0)\n",
        "x = rng.randint(10, size=(3, 4))\n",
        "x"
      ]
    },
    {
      "cell_type": "code",
      "execution_count": null,
      "metadata": {
        "id": "DsO-YZY3T5BL",
        "outputId": "ed4feeec-9b29-4b92-9f5d-b0c115e97ce1"
      },
      "outputs": [
        {
          "data": {
            "text/plain": [
              "array([[ True,  True,  True,  True],\n",
              "       [False, False,  True,  True],\n",
              "       [ True,  True, False, False]])"
            ]
          },
          "execution_count": 42,
          "metadata": {},
          "output_type": "execute_result"
        }
      ],
      "source": [
        "x < 6\n"
      ]
    },
    {
      "cell_type": "code",
      "execution_count": null,
      "metadata": {
        "id": "0rkW8LD7T5BL",
        "outputId": "f6e98b94-ab64-4570-dabe-b8a8c9402665"
      },
      "outputs": [
        {
          "data": {
            "text/plain": [
              "8"
            ]
          },
          "execution_count": 43,
          "metadata": {},
          "output_type": "execute_result"
        }
      ],
      "source": [
        "# Cuántos valores son menores a  6?\n",
        "np.count_nonzero(x < 6)"
      ]
    },
    {
      "cell_type": "code",
      "execution_count": null,
      "metadata": {
        "id": "IspnTi6ZT5BL",
        "outputId": "c0d14a75-3a71-4b03-d63b-e99afded744f"
      },
      "outputs": [
        {
          "data": {
            "text/plain": [
              "array([4, 2, 2])"
            ]
          },
          "execution_count": 44,
          "metadata": {},
          "output_type": "execute_result"
        }
      ],
      "source": [
        "# Cuántos valores son menores a  6 en cada fila?\n",
        "np.sum(x < 6, axis=1)"
      ]
    },
    {
      "cell_type": "code",
      "execution_count": null,
      "metadata": {
        "id": "-pp1F1OaT5BL",
        "outputId": "7d9a2110-c461-44ed-d599-086fc8d9e72a"
      },
      "outputs": [
        {
          "data": {
            "text/plain": [
              "array([ True, False,  True])"
            ]
          },
          "execution_count": 45,
          "metadata": {},
          "output_type": "execute_result"
        }
      ],
      "source": [
        "# Son todos los valores en cada fila menores a 8?\n",
        "np.all(x < 8, axis=1)"
      ]
    },
    {
      "cell_type": "markdown",
      "metadata": {
        "id": "8bq1eK7JT5BM"
      },
      "source": [
        "### Mas ejercicios\n",
        "https://jakevdp.github.io/PythonDataScienceHandbook/02.06-boolean-arrays-and-masks.html\n",
        "    "
      ]
    }
  ],
  "metadata": {
    "kernelspec": {
      "display_name": "Python 3",
      "language": "python",
      "name": "python3"
    },
    "language_info": {
      "codemirror_mode": {
        "name": "ipython",
        "version": 3
      },
      "file_extension": ".py",
      "mimetype": "text/x-python",
      "name": "python",
      "nbconvert_exporter": "python",
      "pygments_lexer": "ipython3",
      "version": "3.7.3"
    },
    "colab": {
      "name": "clase_02_01_numpy.ipynb",
      "provenance": []
    }
  },
  "nbformat": 4,
  "nbformat_minor": 0
}