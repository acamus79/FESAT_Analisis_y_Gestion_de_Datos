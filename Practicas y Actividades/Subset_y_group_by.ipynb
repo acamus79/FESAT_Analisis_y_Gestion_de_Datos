{
  "cells": [
    {
      "cell_type": "markdown",
      "metadata": {
        "id": "3UAwm4sSvjXb"
      },
      "source": [
        "## Importar librerías"
      ]
    },
    {
      "cell_type": "code",
      "execution_count": null,
      "metadata": {
        "id": "SWG3Tx6BvjXh"
      },
      "outputs": [],
      "source": [
        "import pandas as pd\n",
        "import numpy as np"
      ]
    },
    {
      "cell_type": "markdown",
      "metadata": {
        "id": "0JXO0cu2vjXj"
      },
      "source": [
        "## Leer Dataset"
      ]
    },
    {
      "cell_type": "markdown",
      "metadata": {
        "id": "ZS9vdI4yvjXj"
      },
      "source": [
        " Leer Dataset con pandas (tip: pd.read_csv)."
      ]
    },
    {
      "cell_type": "code",
      "execution_count": null,
      "metadata": {
        "id": "ahcKemTDvjXk"
      },
      "outputs": [],
      "source": [
        "#Ruta donde se va a leer el dataset\n",
        "path= 'nombres-2010-2014.csv'\n",
        "#Se le asigna a una variable de python el dataset por medio de la funcion de Pandas \"read_csv()\"\n",
        "dataset= pd.read_csv(path)"
      ]
    },
    {
      "cell_type": "markdown",
      "metadata": {
        "id": "F0icKJegvjXk"
      },
      "source": [
        "Pantallazo general: columnas, índices y memoria"
      ]
    },
    {
      "cell_type": "code",
      "execution_count": null,
      "metadata": {
        "id": "hWY0lzULvjXl",
        "outputId": "0c464c50-5a60-41f5-919f-aeaaf8d6f4a7"
      },
      "outputs": [
        {
          "name": "stdout",
          "output_type": "stream",
          "text": [
            "<class 'pandas.core.frame.DataFrame'>\n",
            "RangeIndex: 871494 entries, 0 to 871493\n",
            "Data columns (total 3 columns):\n",
            "nombre      871494 non-null object\n",
            "cantidad    871494 non-null int64\n",
            "anio        871494 non-null int64\n",
            "dtypes: int64(2), object(1)\n",
            "memory usage: 19.9+ MB\n"
          ]
        }
      ],
      "source": [
        "dataset.info()"
      ]
    },
    {
      "cell_type": "markdown",
      "metadata": {
        "id": "ZAKFxIxxvjXm"
      },
      "source": [
        "### Primera exploración del dataset con pandas.\n",
        "1. Mostrar las primeras 4 filas del dataset."
      ]
    },
    {
      "cell_type": "code",
      "execution_count": null,
      "metadata": {
        "scrolled": true,
        "id": "RrK5ECKevjXn",
        "outputId": "a6e4b969-38d0-4944-ea4d-661c6f232622"
      },
      "outputs": [
        {
          "data": {
            "text/html": [
              "<div>\n",
              "<style scoped>\n",
              "    .dataframe tbody tr th:only-of-type {\n",
              "        vertical-align: middle;\n",
              "    }\n",
              "\n",
              "    .dataframe tbody tr th {\n",
              "        vertical-align: top;\n",
              "    }\n",
              "\n",
              "    .dataframe thead th {\n",
              "        text-align: right;\n",
              "    }\n",
              "</style>\n",
              "<table border=\"1\" class=\"dataframe\">\n",
              "  <thead>\n",
              "    <tr style=\"text-align: right;\">\n",
              "      <th></th>\n",
              "      <th>nombre</th>\n",
              "      <th>cantidad</th>\n",
              "      <th>anio</th>\n",
              "    </tr>\n",
              "  </thead>\n",
              "  <tbody>\n",
              "    <tr>\n",
              "      <th>0</th>\n",
              "      <td>Benjamin</td>\n",
              "      <td>2986</td>\n",
              "      <td>2010</td>\n",
              "    </tr>\n",
              "    <tr>\n",
              "      <th>1</th>\n",
              "      <td>Sofia</td>\n",
              "      <td>2252</td>\n",
              "      <td>2010</td>\n",
              "    </tr>\n",
              "    <tr>\n",
              "      <th>2</th>\n",
              "      <td>Bautista</td>\n",
              "      <td>2176</td>\n",
              "      <td>2010</td>\n",
              "    </tr>\n",
              "    <tr>\n",
              "      <th>3</th>\n",
              "      <td>Joaquín</td>\n",
              "      <td>2111</td>\n",
              "      <td>2010</td>\n",
              "    </tr>\n",
              "  </tbody>\n",
              "</table>\n",
              "</div>"
            ],
            "text/plain": [
              "     nombre  cantidad  anio\n",
              "0  Benjamin      2986  2010\n",
              "1     Sofia      2252  2010\n",
              "2  Bautista      2176  2010\n",
              "3   Joaquín      2111  2010"
            ]
          },
          "execution_count": 5,
          "metadata": {},
          "output_type": "execute_result"
        }
      ],
      "source": [
        "dataset.head(4)"
      ]
    },
    {
      "cell_type": "markdown",
      "metadata": {
        "id": "8WB9LNj6vjXn"
      },
      "source": [
        "## Columnas del Dataset"
      ]
    },
    {
      "cell_type": "markdown",
      "metadata": {
        "id": "ezD94lapvjXo"
      },
      "source": [
        "2. ¿Cuáles son las dimensiones del Dataset?"
      ]
    },
    {
      "cell_type": "code",
      "execution_count": null,
      "metadata": {
        "id": "UwnbDcEVvjXo",
        "outputId": "3c72871c-5479-46f7-e1d3-1131e17bc5e1"
      },
      "outputs": [
        {
          "data": {
            "text/plain": [
              "(871494, 3)"
            ]
          },
          "execution_count": 6,
          "metadata": {},
          "output_type": "execute_result"
        }
      ],
      "source": [
        "dataset.shape"
      ]
    },
    {
      "cell_type": "markdown",
      "metadata": {
        "id": "-TjXAnOMvjXp"
      },
      "source": [
        "3. ¿Cuántas columnas tiene el dataset? ¿ qué nombres tienen?"
      ]
    },
    {
      "cell_type": "code",
      "execution_count": null,
      "metadata": {
        "id": "TPfITVXGvjXp",
        "outputId": "cf61c681-fb21-45d2-8042-29e0b74fccd3"
      },
      "outputs": [
        {
          "data": {
            "text/plain": [
              "3"
            ]
          },
          "execution_count": 7,
          "metadata": {},
          "output_type": "execute_result"
        }
      ],
      "source": [
        "dataset.shape[1]"
      ]
    },
    {
      "cell_type": "code",
      "execution_count": null,
      "metadata": {
        "id": "zQj5rwRKvjXq",
        "outputId": "459fb351-6416-4acf-eb14-f2b89b52b28f"
      },
      "outputs": [
        {
          "data": {
            "text/plain": [
              "Index(['nombre', 'cantidad', 'anio'], dtype='object')"
            ]
          },
          "execution_count": 8,
          "metadata": {},
          "output_type": "execute_result"
        }
      ],
      "source": [
        "dataset.columns"
      ]
    },
    {
      "cell_type": "code",
      "execution_count": null,
      "metadata": {
        "id": "XaPD_ji1vjXq",
        "outputId": "3ea4bc21-0f54-4e5b-b574-0139d31462e6"
      },
      "outputs": [
        {
          "data": {
            "text/plain": [
              "['nombre', 'cantidad', 'anio']"
            ]
          },
          "execution_count": 9,
          "metadata": {},
          "output_type": "execute_result"
        }
      ],
      "source": [
        "list(dataset.columns)"
      ]
    },
    {
      "cell_type": "markdown",
      "metadata": {
        "id": "YB1nVi9zvjXq"
      },
      "source": [
        "4. ¿Cuántas instancias tiene el data set?"
      ]
    },
    {
      "cell_type": "code",
      "execution_count": null,
      "metadata": {
        "id": "zpUEhiSLvjXr",
        "outputId": "c6e2a88b-c982-4cf5-bcb2-266e6baeb595"
      },
      "outputs": [
        {
          "data": {
            "text/plain": [
              "871494"
            ]
          },
          "execution_count": 12,
          "metadata": {},
          "output_type": "execute_result"
        }
      ],
      "source": [
        "dataset.shape[0]"
      ]
    },
    {
      "cell_type": "markdown",
      "metadata": {
        "id": "esfSYTRgvjXr"
      },
      "source": [
        "5. mostrar las ultimas tres instancias"
      ]
    },
    {
      "cell_type": "code",
      "execution_count": null,
      "metadata": {
        "id": "i9A_GUc-vjXr",
        "outputId": "7968dd0b-4c4b-44cd-a0f4-664dbebbc611"
      },
      "outputs": [
        {
          "data": {
            "text/html": [
              "<div>\n",
              "<style scoped>\n",
              "    .dataframe tbody tr th:only-of-type {\n",
              "        vertical-align: middle;\n",
              "    }\n",
              "\n",
              "    .dataframe tbody tr th {\n",
              "        vertical-align: top;\n",
              "    }\n",
              "\n",
              "    .dataframe thead th {\n",
              "        text-align: right;\n",
              "    }\n",
              "</style>\n",
              "<table border=\"1\" class=\"dataframe\">\n",
              "  <thead>\n",
              "    <tr style=\"text-align: right;\">\n",
              "      <th></th>\n",
              "      <th>nombre</th>\n",
              "      <th>cantidad</th>\n",
              "      <th>anio</th>\n",
              "    </tr>\n",
              "  </thead>\n",
              "  <tbody>\n",
              "    <tr>\n",
              "      <th>871491</th>\n",
              "      <td>Yanira Valentina</td>\n",
              "      <td>1</td>\n",
              "      <td>2014</td>\n",
              "    </tr>\n",
              "    <tr>\n",
              "      <th>871492</th>\n",
              "      <td>Angie Ainara</td>\n",
              "      <td>1</td>\n",
              "      <td>2014</td>\n",
              "    </tr>\n",
              "    <tr>\n",
              "      <th>871493</th>\n",
              "      <td>Elias Hernando</td>\n",
              "      <td>1</td>\n",
              "      <td>2014</td>\n",
              "    </tr>\n",
              "  </tbody>\n",
              "</table>\n",
              "</div>"
            ],
            "text/plain": [
              "                  nombre  cantidad  anio\n",
              "871491  Yanira Valentina         1  2014\n",
              "871492      Angie Ainara         1  2014\n",
              "871493    Elias Hernando         1  2014"
            ]
          },
          "execution_count": 13,
          "metadata": {},
          "output_type": "execute_result"
        }
      ],
      "source": [
        "dataset.tail(3)"
      ]
    },
    {
      "cell_type": "markdown",
      "metadata": {
        "id": "UzkoZPC9vjXs"
      },
      "source": [
        "   Tenemos **871.494 Filas** y **3 Columnas**"
      ]
    },
    {
      "cell_type": "markdown",
      "metadata": {
        "id": "_Nvwq_8evjXs"
      },
      "source": [
        "6. ¿Qué tipos de datos tienen las columnas?"
      ]
    },
    {
      "cell_type": "code",
      "execution_count": null,
      "metadata": {
        "id": "pP7VCw3YvjXs",
        "outputId": "2654d407-c161-4b0a-b8aa-ca46cc404298"
      },
      "outputs": [
        {
          "data": {
            "text/plain": [
              "nombre      object\n",
              "cantidad     int64\n",
              "anio         int64\n",
              "dtype: object"
            ]
          },
          "execution_count": 14,
          "metadata": {},
          "output_type": "execute_result"
        }
      ],
      "source": [
        "dataset.dtypes"
      ]
    },
    {
      "cell_type": "markdown",
      "metadata": {
        "id": "QdRM-gjqvjXs"
      },
      "source": [
        "7. ¿Cuántos Null por columna tenemos? Contar los datos null en cada columna"
      ]
    },
    {
      "cell_type": "code",
      "execution_count": null,
      "metadata": {
        "id": "bd-a1NEpvjXt",
        "outputId": "101dc983-da35-42d0-90e2-5ef3ae61e6e2"
      },
      "outputs": [
        {
          "data": {
            "text/html": [
              "<div>\n",
              "<style scoped>\n",
              "    .dataframe tbody tr th:only-of-type {\n",
              "        vertical-align: middle;\n",
              "    }\n",
              "\n",
              "    .dataframe tbody tr th {\n",
              "        vertical-align: top;\n",
              "    }\n",
              "\n",
              "    .dataframe thead th {\n",
              "        text-align: right;\n",
              "    }\n",
              "</style>\n",
              "<table border=\"1\" class=\"dataframe\">\n",
              "  <thead>\n",
              "    <tr style=\"text-align: right;\">\n",
              "      <th></th>\n",
              "      <th>nombre</th>\n",
              "      <th>cantidad</th>\n",
              "      <th>anio</th>\n",
              "    </tr>\n",
              "  </thead>\n",
              "  <tbody>\n",
              "    <tr>\n",
              "      <th>0</th>\n",
              "      <td>False</td>\n",
              "      <td>False</td>\n",
              "      <td>False</td>\n",
              "    </tr>\n",
              "    <tr>\n",
              "      <th>1</th>\n",
              "      <td>False</td>\n",
              "      <td>False</td>\n",
              "      <td>False</td>\n",
              "    </tr>\n",
              "    <tr>\n",
              "      <th>2</th>\n",
              "      <td>False</td>\n",
              "      <td>False</td>\n",
              "      <td>False</td>\n",
              "    </tr>\n",
              "    <tr>\n",
              "      <th>3</th>\n",
              "      <td>False</td>\n",
              "      <td>False</td>\n",
              "      <td>False</td>\n",
              "    </tr>\n",
              "    <tr>\n",
              "      <th>4</th>\n",
              "      <td>False</td>\n",
              "      <td>False</td>\n",
              "      <td>False</td>\n",
              "    </tr>\n",
              "  </tbody>\n",
              "</table>\n",
              "</div>"
            ],
            "text/plain": [
              "   nombre  cantidad   anio\n",
              "0   False     False  False\n",
              "1   False     False  False\n",
              "2   False     False  False\n",
              "3   False     False  False\n",
              "4   False     False  False"
            ]
          },
          "execution_count": 15,
          "metadata": {},
          "output_type": "execute_result"
        }
      ],
      "source": [
        "dataset.isnull().head()"
      ]
    },
    {
      "cell_type": "code",
      "execution_count": null,
      "metadata": {
        "id": "U838h6l3vjXt",
        "outputId": "a99afc8f-228c-4dc1-e59d-ac66b023dd66"
      },
      "outputs": [
        {
          "data": {
            "text/plain": [
              "nombre      0\n",
              "cantidad    0\n",
              "anio        0\n",
              "dtype: int64"
            ]
          },
          "execution_count": 16,
          "metadata": {},
          "output_type": "execute_result"
        }
      ],
      "source": [
        "dataset.isnull().sum()"
      ]
    },
    {
      "cell_type": "markdown",
      "metadata": {
        "id": "X1LemB67vjXt"
      },
      "source": [
        "8. ¿Cuántos Nombres únicos tenemos? ( usar len() y unique() )"
      ]
    },
    {
      "cell_type": "code",
      "execution_count": null,
      "metadata": {
        "id": "jWL8f-H2vjXt",
        "outputId": "23241844-a7ed-46d6-e04d-2654a7062f89"
      },
      "outputs": [
        {
          "data": {
            "text/plain": [
              "593141"
            ]
          },
          "execution_count": 17,
          "metadata": {},
          "output_type": "execute_result"
        }
      ],
      "source": [
        "list(dataset['nombre'].unique())\n",
        "len(dataset['nombre'].unique())"
      ]
    },
    {
      "cell_type": "markdown",
      "metadata": {
        "id": "SO7358_ivjXu"
      },
      "source": [
        "9. ¿Cuáles años tenemos? y ¿Cuántos nombres por año tenemos?"
      ]
    },
    {
      "cell_type": "code",
      "execution_count": null,
      "metadata": {
        "id": "SiLMhLt3vjXu",
        "outputId": "2f71a1c9-4258-4db4-cba0-7074fcdf3235"
      },
      "outputs": [
        {
          "data": {
            "text/plain": [
              "array([2010, 2011, 2012, 2013, 2014], dtype=int64)"
            ]
          },
          "execution_count": 18,
          "metadata": {},
          "output_type": "execute_result"
        }
      ],
      "source": [
        "dataset['anio'].unique()"
      ]
    },
    {
      "cell_type": "code",
      "execution_count": null,
      "metadata": {
        "scrolled": true,
        "id": "nOBSY80mvjXu",
        "outputId": "5c45dff0-9e40-44c9-fdf8-fcb328decb4a"
      },
      "outputs": [
        {
          "data": {
            "text/plain": [
              "5"
            ]
          },
          "execution_count": 19,
          "metadata": {},
          "output_type": "execute_result"
        }
      ],
      "source": [
        "len(dataset['anio'].unique())"
      ]
    },
    {
      "cell_type": "code",
      "execution_count": null,
      "metadata": {
        "id": "CjOOYzSSvjXu",
        "outputId": "1bb9be6f-7e93-4ca5-f7f4-f134cf8adbfc"
      },
      "outputs": [
        {
          "data": {
            "text/plain": [
              "anio\n",
              "2010    135000\n",
              "2011    119431\n",
              "2012    203486\n",
              "2013    204470\n",
              "2014    209107\n",
              "Name: nombre, dtype: int64"
            ]
          },
          "execution_count": 20,
          "metadata": {},
          "output_type": "execute_result"
        }
      ],
      "source": [
        "dataset.groupby('anio')['nombre'].count()"
      ]
    },
    {
      "cell_type": "markdown",
      "metadata": {
        "id": "hUP6vKRUvjXu"
      },
      "source": [
        "10. Cuáles fueron los 5 nombres que más se usaron?"
      ]
    },
    {
      "cell_type": "code",
      "execution_count": null,
      "metadata": {
        "id": "C6Hcq85gvjXv",
        "outputId": "951fddeb-b920-4575-d2cb-72853dc285fa"
      },
      "outputs": [
        {
          "data": {
            "text/html": [
              "<div>\n",
              "<style scoped>\n",
              "    .dataframe tbody tr th:only-of-type {\n",
              "        vertical-align: middle;\n",
              "    }\n",
              "\n",
              "    .dataframe tbody tr th {\n",
              "        vertical-align: top;\n",
              "    }\n",
              "\n",
              "    .dataframe thead th {\n",
              "        text-align: right;\n",
              "    }\n",
              "</style>\n",
              "<table border=\"1\" class=\"dataframe\">\n",
              "  <thead>\n",
              "    <tr style=\"text-align: right;\">\n",
              "      <th></th>\n",
              "      <th>cantidad</th>\n",
              "    </tr>\n",
              "    <tr>\n",
              "      <th>nombre</th>\n",
              "      <th></th>\n",
              "    </tr>\n",
              "  </thead>\n",
              "  <tbody>\n",
              "    <tr>\n",
              "      <th>Benjamin</th>\n",
              "      <td>19491</td>\n",
              "    </tr>\n",
              "    <tr>\n",
              "      <th>Martina</th>\n",
              "      <td>14068</td>\n",
              "    </tr>\n",
              "    <tr>\n",
              "      <th>Isabella</th>\n",
              "      <td>13245</td>\n",
              "    </tr>\n",
              "    <tr>\n",
              "      <th>Bautista</th>\n",
              "      <td>12618</td>\n",
              "    </tr>\n",
              "    <tr>\n",
              "      <th>Catalina</th>\n",
              "      <td>12376</td>\n",
              "    </tr>\n",
              "  </tbody>\n",
              "</table>\n",
              "</div>"
            ],
            "text/plain": [
              "          cantidad\n",
              "nombre            \n",
              "Benjamin     19491\n",
              "Martina      14068\n",
              "Isabella     13245\n",
              "Bautista     12618\n",
              "Catalina     12376"
            ]
          },
          "execution_count": 21,
          "metadata": {},
          "output_type": "execute_result"
        }
      ],
      "source": [
        "dataset[['nombre','cantidad']].groupby('nombre').sum().sort_values(by='cantidad', ascending=False).head()"
      ]
    },
    {
      "cell_type": "markdown",
      "metadata": {
        "id": "9-3bhoUwvjXv"
      },
      "source": [
        "11. Por año cuáles fueron los 5 nombres que más se usaron? "
      ]
    },
    {
      "cell_type": "code",
      "execution_count": null,
      "metadata": {
        "id": "OAWLt_M9vjXv",
        "outputId": "3268ffe4-367a-4e09-a78a-35e17a1a03be"
      },
      "outputs": [
        {
          "data": {
            "text/plain": [
              "array([2010, 2011, 2012, 2013, 2014], dtype=int64)"
            ]
          },
          "execution_count": 22,
          "metadata": {},
          "output_type": "execute_result"
        }
      ],
      "source": [
        "lista_años = dataset.anio.unique() # análogo a dataset['anio'].unique() y aclaración\n",
        "lista_años"
      ]
    },
    {
      "cell_type": "code",
      "execution_count": null,
      "metadata": {
        "id": "FUSgUzHqvjXv",
        "outputId": "c65c4fd4-a762-46d6-ca98-12073b5cdfb0"
      },
      "outputs": [
        {
          "data": {
            "text/html": [
              "<div>\n",
              "<style scoped>\n",
              "    .dataframe tbody tr th:only-of-type {\n",
              "        vertical-align: middle;\n",
              "    }\n",
              "\n",
              "    .dataframe tbody tr th {\n",
              "        vertical-align: top;\n",
              "    }\n",
              "\n",
              "    .dataframe thead th {\n",
              "        text-align: right;\n",
              "    }\n",
              "</style>\n",
              "<table border=\"1\" class=\"dataframe\">\n",
              "  <thead>\n",
              "    <tr style=\"text-align: right;\">\n",
              "      <th></th>\n",
              "      <th>cantidad</th>\n",
              "      <th>anio</th>\n",
              "    </tr>\n",
              "    <tr>\n",
              "      <th>nombre</th>\n",
              "      <th></th>\n",
              "      <th></th>\n",
              "    </tr>\n",
              "  </thead>\n",
              "  <tbody>\n",
              "    <tr>\n",
              "      <th>Benjamin</th>\n",
              "      <td>2986</td>\n",
              "      <td>2010</td>\n",
              "    </tr>\n",
              "    <tr>\n",
              "      <th>Sofia</th>\n",
              "      <td>2252</td>\n",
              "      <td>2010</td>\n",
              "    </tr>\n",
              "    <tr>\n",
              "      <th>Bautista</th>\n",
              "      <td>2176</td>\n",
              "      <td>2010</td>\n",
              "    </tr>\n",
              "    <tr>\n",
              "      <th>Joaquín</th>\n",
              "      <td>2111</td>\n",
              "      <td>2010</td>\n",
              "    </tr>\n",
              "    <tr>\n",
              "      <th>Juan Ignacio</th>\n",
              "      <td>2039</td>\n",
              "      <td>2010</td>\n",
              "    </tr>\n",
              "  </tbody>\n",
              "</table>\n",
              "</div>"
            ],
            "text/plain": [
              "              cantidad  anio\n",
              "nombre                      \n",
              "Benjamin          2986  2010\n",
              "Sofia             2252  2010\n",
              "Bautista          2176  2010\n",
              "Joaquín           2111  2010\n",
              "Juan Ignacio      2039  2010"
            ]
          },
          "execution_count": 23,
          "metadata": {},
          "output_type": "execute_result"
        }
      ],
      "source": [
        "dataset.set_index(['nombre']).head()"
      ]
    },
    {
      "cell_type": "markdown",
      "metadata": {
        "id": "DfW1TNIAvjXw"
      },
      "source": [
        "La función groupby () devuelve un objeto GroupBy, pero esencialmente describe cómo se dividieron las filas del conjunto de datos original. La variable .grupo de objeto GroupBy es un diccionario cuyas claves son los grupos únicos computados y los valores correspondientes son las etiquetas de eje que pertenecen a cada grupo.\n",
        "\n",
        "https://www.shanelynn.ie/summarising-aggregation-and-grouping-data-in-python-pandas/"
      ]
    },
    {
      "cell_type": "code",
      "execution_count": null,
      "metadata": {
        "id": "lu0xXNTovjXw",
        "outputId": "007aaecc-dc94-4472-e8ed-9b61a7ab008a"
      },
      "outputs": [
        {
          "data": {
            "text/html": [
              "<div>\n",
              "<style scoped>\n",
              "    .dataframe tbody tr th:only-of-type {\n",
              "        vertical-align: middle;\n",
              "    }\n",
              "\n",
              "    .dataframe tbody tr th {\n",
              "        vertical-align: top;\n",
              "    }\n",
              "\n",
              "    .dataframe thead th {\n",
              "        text-align: right;\n",
              "    }\n",
              "</style>\n",
              "<table border=\"1\" class=\"dataframe\">\n",
              "  <thead>\n",
              "    <tr style=\"text-align: right;\">\n",
              "      <th></th>\n",
              "      <th>anio</th>\n",
              "      <th>level_1</th>\n",
              "      <th>cantidad</th>\n",
              "    </tr>\n",
              "  </thead>\n",
              "  <tbody>\n",
              "    <tr>\n",
              "      <th>0</th>\n",
              "      <td>2010</td>\n",
              "      <td>0</td>\n",
              "      <td>2986</td>\n",
              "    </tr>\n",
              "    <tr>\n",
              "      <th>1</th>\n",
              "      <td>2010</td>\n",
              "      <td>1</td>\n",
              "      <td>2252</td>\n",
              "    </tr>\n",
              "    <tr>\n",
              "      <th>2</th>\n",
              "      <td>2010</td>\n",
              "      <td>2</td>\n",
              "      <td>2176</td>\n",
              "    </tr>\n",
              "    <tr>\n",
              "      <th>3</th>\n",
              "      <td>2010</td>\n",
              "      <td>3</td>\n",
              "      <td>2111</td>\n",
              "    </tr>\n",
              "    <tr>\n",
              "      <th>4</th>\n",
              "      <td>2010</td>\n",
              "      <td>4</td>\n",
              "      <td>2039</td>\n",
              "    </tr>\n",
              "    <tr>\n",
              "      <th>5</th>\n",
              "      <td>2011</td>\n",
              "      <td>135000</td>\n",
              "      <td>2535</td>\n",
              "    </tr>\n",
              "    <tr>\n",
              "      <th>6</th>\n",
              "      <td>2011</td>\n",
              "      <td>135001</td>\n",
              "      <td>1870</td>\n",
              "    </tr>\n",
              "    <tr>\n",
              "      <th>7</th>\n",
              "      <td>2011</td>\n",
              "      <td>135002</td>\n",
              "      <td>1825</td>\n",
              "    </tr>\n",
              "    <tr>\n",
              "      <th>8</th>\n",
              "      <td>2011</td>\n",
              "      <td>135003</td>\n",
              "      <td>1817</td>\n",
              "    </tr>\n",
              "    <tr>\n",
              "      <th>9</th>\n",
              "      <td>2011</td>\n",
              "      <td>135004</td>\n",
              "      <td>1782</td>\n",
              "    </tr>\n",
              "    <tr>\n",
              "      <th>10</th>\n",
              "      <td>2012</td>\n",
              "      <td>254431</td>\n",
              "      <td>4724</td>\n",
              "    </tr>\n",
              "    <tr>\n",
              "      <th>11</th>\n",
              "      <td>2012</td>\n",
              "      <td>254432</td>\n",
              "      <td>3392</td>\n",
              "    </tr>\n",
              "    <tr>\n",
              "      <th>12</th>\n",
              "      <td>2012</td>\n",
              "      <td>254433</td>\n",
              "      <td>3138</td>\n",
              "    </tr>\n",
              "    <tr>\n",
              "      <th>13</th>\n",
              "      <td>2012</td>\n",
              "      <td>254434</td>\n",
              "      <td>3130</td>\n",
              "    </tr>\n",
              "    <tr>\n",
              "      <th>14</th>\n",
              "      <td>2012</td>\n",
              "      <td>254435</td>\n",
              "      <td>3024</td>\n",
              "    </tr>\n",
              "    <tr>\n",
              "      <th>15</th>\n",
              "      <td>2013</td>\n",
              "      <td>457917</td>\n",
              "      <td>4960</td>\n",
              "    </tr>\n",
              "    <tr>\n",
              "      <th>16</th>\n",
              "      <td>2013</td>\n",
              "      <td>457918</td>\n",
              "      <td>3587</td>\n",
              "    </tr>\n",
              "    <tr>\n",
              "      <th>17</th>\n",
              "      <td>2013</td>\n",
              "      <td>457919</td>\n",
              "      <td>3532</td>\n",
              "    </tr>\n",
              "    <tr>\n",
              "      <th>18</th>\n",
              "      <td>2013</td>\n",
              "      <td>457920</td>\n",
              "      <td>3215</td>\n",
              "    </tr>\n",
              "    <tr>\n",
              "      <th>19</th>\n",
              "      <td>2013</td>\n",
              "      <td>457921</td>\n",
              "      <td>2934</td>\n",
              "    </tr>\n",
              "    <tr>\n",
              "      <th>20</th>\n",
              "      <td>2014</td>\n",
              "      <td>662387</td>\n",
              "      <td>4286</td>\n",
              "    </tr>\n",
              "    <tr>\n",
              "      <th>21</th>\n",
              "      <td>2014</td>\n",
              "      <td>662388</td>\n",
              "      <td>3563</td>\n",
              "    </tr>\n",
              "    <tr>\n",
              "      <th>22</th>\n",
              "      <td>2014</td>\n",
              "      <td>662389</td>\n",
              "      <td>3546</td>\n",
              "    </tr>\n",
              "    <tr>\n",
              "      <th>23</th>\n",
              "      <td>2014</td>\n",
              "      <td>662390</td>\n",
              "      <td>2868</td>\n",
              "    </tr>\n",
              "    <tr>\n",
              "      <th>24</th>\n",
              "      <td>2014</td>\n",
              "      <td>662391</td>\n",
              "      <td>2820</td>\n",
              "    </tr>\n",
              "  </tbody>\n",
              "</table>\n",
              "</div>"
            ],
            "text/plain": [
              "    anio  level_1  cantidad\n",
              "0   2010        0      2986\n",
              "1   2010        1      2252\n",
              "2   2010        2      2176\n",
              "3   2010        3      2111\n",
              "4   2010        4      2039\n",
              "5   2011   135000      2535\n",
              "6   2011   135001      1870\n",
              "7   2011   135002      1825\n",
              "8   2011   135003      1817\n",
              "9   2011   135004      1782\n",
              "10  2012   254431      4724\n",
              "11  2012   254432      3392\n",
              "12  2012   254433      3138\n",
              "13  2012   254434      3130\n",
              "14  2012   254435      3024\n",
              "15  2013   457917      4960\n",
              "16  2013   457918      3587\n",
              "17  2013   457919      3532\n",
              "18  2013   457920      3215\n",
              "19  2013   457921      2934\n",
              "20  2014   662387      4286\n",
              "21  2014   662388      3563\n",
              "22  2014   662389      3546\n",
              "23  2014   662390      2868\n",
              "24  2014   662391      2820"
            ]
          },
          "execution_count": 7,
          "metadata": {},
          "output_type": "execute_result"
        }
      ],
      "source": [
        "dataset.groupby('anio')['cantidad'].nlargest(5).reset_index() # porque usar el nombre como indice\n"
      ]
    },
    {
      "cell_type": "code",
      "execution_count": null,
      "metadata": {
        "id": "wkxXtbaivjXw",
        "outputId": "e48e1792-cc01-498d-d1f3-de1a1670e6a2"
      },
      "outputs": [
        {
          "data": {
            "text/html": [
              "<div>\n",
              "<style scoped>\n",
              "    .dataframe tbody tr th:only-of-type {\n",
              "        vertical-align: middle;\n",
              "    }\n",
              "\n",
              "    .dataframe tbody tr th {\n",
              "        vertical-align: top;\n",
              "    }\n",
              "\n",
              "    .dataframe thead th {\n",
              "        text-align: right;\n",
              "    }\n",
              "</style>\n",
              "<table border=\"1\" class=\"dataframe\">\n",
              "  <thead>\n",
              "    <tr style=\"text-align: right;\">\n",
              "      <th></th>\n",
              "      <th>anio</th>\n",
              "      <th>nombre</th>\n",
              "      <th>cantidad</th>\n",
              "    </tr>\n",
              "  </thead>\n",
              "  <tbody>\n",
              "    <tr>\n",
              "      <th>0</th>\n",
              "      <td>2010</td>\n",
              "      <td>Benjamin</td>\n",
              "      <td>2986</td>\n",
              "    </tr>\n",
              "    <tr>\n",
              "      <th>1</th>\n",
              "      <td>2010</td>\n",
              "      <td>Sofia</td>\n",
              "      <td>2252</td>\n",
              "    </tr>\n",
              "    <tr>\n",
              "      <th>2</th>\n",
              "      <td>2010</td>\n",
              "      <td>Bautista</td>\n",
              "      <td>2176</td>\n",
              "    </tr>\n",
              "    <tr>\n",
              "      <th>3</th>\n",
              "      <td>2010</td>\n",
              "      <td>Joaquín</td>\n",
              "      <td>2111</td>\n",
              "    </tr>\n",
              "    <tr>\n",
              "      <th>4</th>\n",
              "      <td>2010</td>\n",
              "      <td>Juan Ignacio</td>\n",
              "      <td>2039</td>\n",
              "    </tr>\n",
              "    <tr>\n",
              "      <th>5</th>\n",
              "      <td>2011</td>\n",
              "      <td>Benjamin</td>\n",
              "      <td>2535</td>\n",
              "    </tr>\n",
              "    <tr>\n",
              "      <th>6</th>\n",
              "      <td>2011</td>\n",
              "      <td>Sofia</td>\n",
              "      <td>1870</td>\n",
              "    </tr>\n",
              "    <tr>\n",
              "      <th>7</th>\n",
              "      <td>2011</td>\n",
              "      <td>Joaquin</td>\n",
              "      <td>1825</td>\n",
              "    </tr>\n",
              "    <tr>\n",
              "      <th>8</th>\n",
              "      <td>2011</td>\n",
              "      <td>Martina</td>\n",
              "      <td>1817</td>\n",
              "    </tr>\n",
              "    <tr>\n",
              "      <th>9</th>\n",
              "      <td>2011</td>\n",
              "      <td>Bautista</td>\n",
              "      <td>1782</td>\n",
              "    </tr>\n",
              "    <tr>\n",
              "      <th>10</th>\n",
              "      <td>2012</td>\n",
              "      <td>Benjamin</td>\n",
              "      <td>4724</td>\n",
              "    </tr>\n",
              "    <tr>\n",
              "      <th>11</th>\n",
              "      <td>2012</td>\n",
              "      <td>Isabella</td>\n",
              "      <td>3392</td>\n",
              "    </tr>\n",
              "    <tr>\n",
              "      <th>12</th>\n",
              "      <td>2012</td>\n",
              "      <td>Joaquin</td>\n",
              "      <td>3138</td>\n",
              "    </tr>\n",
              "    <tr>\n",
              "      <th>13</th>\n",
              "      <td>2012</td>\n",
              "      <td>Martina</td>\n",
              "      <td>3130</td>\n",
              "    </tr>\n",
              "    <tr>\n",
              "      <th>14</th>\n",
              "      <td>2012</td>\n",
              "      <td>Sofía</td>\n",
              "      <td>3024</td>\n",
              "    </tr>\n",
              "    <tr>\n",
              "      <th>15</th>\n",
              "      <td>2013</td>\n",
              "      <td>Benjamin</td>\n",
              "      <td>4960</td>\n",
              "    </tr>\n",
              "    <tr>\n",
              "      <th>16</th>\n",
              "      <td>2013</td>\n",
              "      <td>Isabella</td>\n",
              "      <td>3587</td>\n",
              "    </tr>\n",
              "    <tr>\n",
              "      <th>17</th>\n",
              "      <td>2013</td>\n",
              "      <td>Martina</td>\n",
              "      <td>3532</td>\n",
              "    </tr>\n",
              "    <tr>\n",
              "      <th>18</th>\n",
              "      <td>2013</td>\n",
              "      <td>Santino</td>\n",
              "      <td>3215</td>\n",
              "    </tr>\n",
              "    <tr>\n",
              "      <th>19</th>\n",
              "      <td>2013</td>\n",
              "      <td>Catalina</td>\n",
              "      <td>2934</td>\n",
              "    </tr>\n",
              "    <tr>\n",
              "      <th>20</th>\n",
              "      <td>2014</td>\n",
              "      <td>Benjamin</td>\n",
              "      <td>4286</td>\n",
              "    </tr>\n",
              "    <tr>\n",
              "      <th>21</th>\n",
              "      <td>2014</td>\n",
              "      <td>Martina</td>\n",
              "      <td>3563</td>\n",
              "    </tr>\n",
              "    <tr>\n",
              "      <th>22</th>\n",
              "      <td>2014</td>\n",
              "      <td>Isabella</td>\n",
              "      <td>3546</td>\n",
              "    </tr>\n",
              "    <tr>\n",
              "      <th>23</th>\n",
              "      <td>2014</td>\n",
              "      <td>Catalina</td>\n",
              "      <td>2868</td>\n",
              "    </tr>\n",
              "    <tr>\n",
              "      <th>24</th>\n",
              "      <td>2014</td>\n",
              "      <td>Bautista</td>\n",
              "      <td>2820</td>\n",
              "    </tr>\n",
              "  </tbody>\n",
              "</table>\n",
              "</div>"
            ],
            "text/plain": [
              "    anio        nombre  cantidad\n",
              "0   2010      Benjamin      2986\n",
              "1   2010         Sofia      2252\n",
              "2   2010      Bautista      2176\n",
              "3   2010       Joaquín      2111\n",
              "4   2010  Juan Ignacio      2039\n",
              "5   2011      Benjamin      2535\n",
              "6   2011         Sofia      1870\n",
              "7   2011       Joaquin      1825\n",
              "8   2011       Martina      1817\n",
              "9   2011      Bautista      1782\n",
              "10  2012      Benjamin      4724\n",
              "11  2012      Isabella      3392\n",
              "12  2012       Joaquin      3138\n",
              "13  2012       Martina      3130\n",
              "14  2012         Sofía      3024\n",
              "15  2013      Benjamin      4960\n",
              "16  2013      Isabella      3587\n",
              "17  2013       Martina      3532\n",
              "18  2013       Santino      3215\n",
              "19  2013      Catalina      2934\n",
              "20  2014      Benjamin      4286\n",
              "21  2014       Martina      3563\n",
              "22  2014      Isabella      3546\n",
              "23  2014      Catalina      2868\n",
              "24  2014      Bautista      2820"
            ]
          },
          "execution_count": 25,
          "metadata": {},
          "output_type": "execute_result"
        }
      ],
      "source": [
        "dataset.set_index(['nombre']).groupby('anio')['cantidad'].nlargest(5).reset_index() # haces el reset indice para que quede ordenado"
      ]
    },
    {
      "cell_type": "markdown",
      "metadata": {
        "id": "vEhb6KKFvjXw"
      },
      "source": [
        "*12. Buscar 4 nombres de compañeros y contar la cantidad de casos totales.*"
      ]
    },
    {
      "cell_type": "code",
      "execution_count": null,
      "metadata": {
        "id": "QYNjM0QivjXw",
        "outputId": "38d5e70a-c775-47b8-9736-d3e89d0749cb"
      },
      "outputs": [
        {
          "data": {
            "text/html": [
              "<div>\n",
              "<style scoped>\n",
              "    .dataframe tbody tr th:only-of-type {\n",
              "        vertical-align: middle;\n",
              "    }\n",
              "\n",
              "    .dataframe tbody tr th {\n",
              "        vertical-align: top;\n",
              "    }\n",
              "\n",
              "    .dataframe thead th {\n",
              "        text-align: right;\n",
              "    }\n",
              "</style>\n",
              "<table border=\"1\" class=\"dataframe\">\n",
              "  <thead>\n",
              "    <tr style=\"text-align: right;\">\n",
              "      <th></th>\n",
              "      <th>cantidad</th>\n",
              "    </tr>\n",
              "    <tr>\n",
              "      <th>nombre</th>\n",
              "      <th></th>\n",
              "    </tr>\n",
              "  </thead>\n",
              "  <tbody>\n",
              "    <tr>\n",
              "      <th>Martina</th>\n",
              "      <td>14068</td>\n",
              "    </tr>\n",
              "    <tr>\n",
              "      <th>Isabella</th>\n",
              "      <td>13245</td>\n",
              "    </tr>\n",
              "    <tr>\n",
              "      <th>Facundo</th>\n",
              "      <td>4794</td>\n",
              "    </tr>\n",
              "    <tr>\n",
              "      <th>Veronica</th>\n",
              "      <td>89</td>\n",
              "    </tr>\n",
              "  </tbody>\n",
              "</table>\n",
              "</div>"
            ],
            "text/plain": [
              "          cantidad\n",
              "nombre            \n",
              "Martina      14068\n",
              "Isabella     13245\n",
              "Facundo       4794\n",
              "Veronica        89"
            ]
          },
          "execution_count": 26,
          "metadata": {},
          "output_type": "execute_result"
        }
      ],
      "source": [
        "nombres_compañeros=['Martina','Facundo','Isabella','Veronica']\n",
        "dataset.loc[dataset.nombre.isin(nombres_compañeros), ['nombre', 'cantidad']].groupby('nombre').sum().sort_values(by='cantidad', ascending=False)"
      ]
    },
    {
      "cell_type": "markdown",
      "metadata": {
        "id": "XbvbF8VVvjXx"
      },
      "source": [
        "*13. Buscar 5 nombres de compañeros y contar la cantidad de casos totales por año.*"
      ]
    },
    {
      "cell_type": "code",
      "execution_count": null,
      "metadata": {
        "id": "WvKu2XaFvjXx",
        "outputId": "89ac456c-09e9-4a3d-e4c5-b18b6b81f2b5"
      },
      "outputs": [
        {
          "data": {
            "text/html": [
              "<div>\n",
              "<style scoped>\n",
              "    .dataframe tbody tr th:only-of-type {\n",
              "        vertical-align: middle;\n",
              "    }\n",
              "\n",
              "    .dataframe tbody tr th {\n",
              "        vertical-align: top;\n",
              "    }\n",
              "\n",
              "    .dataframe thead th {\n",
              "        text-align: right;\n",
              "    }\n",
              "</style>\n",
              "<table border=\"1\" class=\"dataframe\">\n",
              "  <thead>\n",
              "    <tr style=\"text-align: right;\">\n",
              "      <th></th>\n",
              "      <th>anio</th>\n",
              "      <th>nombre</th>\n",
              "      <th>cantidad</th>\n",
              "    </tr>\n",
              "  </thead>\n",
              "  <tbody>\n",
              "    <tr>\n",
              "      <th>494</th>\n",
              "      <td>2010</td>\n",
              "      <td>Cristian</td>\n",
              "      <td>96</td>\n",
              "    </tr>\n",
              "    <tr>\n",
              "      <th>3223</th>\n",
              "      <td>2010</td>\n",
              "      <td>Ernesto</td>\n",
              "      <td>21</td>\n",
              "    </tr>\n",
              "    <tr>\n",
              "      <th>712</th>\n",
              "      <td>2010</td>\n",
              "      <td>Javier</td>\n",
              "      <td>72</td>\n",
              "    </tr>\n",
              "    <tr>\n",
              "      <th>204</th>\n",
              "      <td>2010</td>\n",
              "      <td>Jeronimo</td>\n",
              "      <td>192</td>\n",
              "    </tr>\n",
              "    <tr>\n",
              "      <th>182</th>\n",
              "      <td>2010</td>\n",
              "      <td>Marcos</td>\n",
              "      <td>213</td>\n",
              "    </tr>\n",
              "    <tr>\n",
              "      <th>135633</th>\n",
              "      <td>2011</td>\n",
              "      <td>Cristian</td>\n",
              "      <td>63</td>\n",
              "    </tr>\n",
              "    <tr>\n",
              "      <th>137090</th>\n",
              "      <td>2011</td>\n",
              "      <td>Ernesto</td>\n",
              "      <td>24</td>\n",
              "    </tr>\n",
              "    <tr>\n",
              "      <th>135836</th>\n",
              "      <td>2011</td>\n",
              "      <td>Javier</td>\n",
              "      <td>50</td>\n",
              "    </tr>\n",
              "    <tr>\n",
              "      <th>135224</th>\n",
              "      <td>2011</td>\n",
              "      <td>Marcos</td>\n",
              "      <td>144</td>\n",
              "    </tr>\n",
              "    <tr>\n",
              "      <th>255592</th>\n",
              "      <td>2012</td>\n",
              "      <td>Cristian</td>\n",
              "      <td>84</td>\n",
              "    </tr>\n",
              "    <tr>\n",
              "      <th>258462</th>\n",
              "      <td>2012</td>\n",
              "      <td>Ernesto</td>\n",
              "      <td>29</td>\n",
              "    </tr>\n",
              "    <tr>\n",
              "      <th>255952</th>\n",
              "      <td>2012</td>\n",
              "      <td>Javier</td>\n",
              "      <td>67</td>\n",
              "    </tr>\n",
              "    <tr>\n",
              "      <th>254660</th>\n",
              "      <td>2012</td>\n",
              "      <td>Jeronimo</td>\n",
              "      <td>289</td>\n",
              "    </tr>\n",
              "    <tr>\n",
              "      <th>254692</th>\n",
              "      <td>2012</td>\n",
              "      <td>Marcos</td>\n",
              "      <td>257</td>\n",
              "    </tr>\n",
              "    <tr>\n",
              "      <th>459172</th>\n",
              "      <td>2013</td>\n",
              "      <td>Cristian</td>\n",
              "      <td>72</td>\n",
              "    </tr>\n",
              "    <tr>\n",
              "      <th>462262</th>\n",
              "      <td>2013</td>\n",
              "      <td>Ernesto</td>\n",
              "      <td>25</td>\n",
              "    </tr>\n",
              "    <tr>\n",
              "      <th>459473</th>\n",
              "      <td>2013</td>\n",
              "      <td>Javier</td>\n",
              "      <td>60</td>\n",
              "    </tr>\n",
              "    <tr>\n",
              "      <th>458165</th>\n",
              "      <td>2013</td>\n",
              "      <td>Jeronimo</td>\n",
              "      <td>257</td>\n",
              "    </tr>\n",
              "    <tr>\n",
              "      <th>458246</th>\n",
              "      <td>2013</td>\n",
              "      <td>Marcos</td>\n",
              "      <td>197</td>\n",
              "    </tr>\n",
              "    <tr>\n",
              "      <th>664074</th>\n",
              "      <td>2014</td>\n",
              "      <td>Cristian</td>\n",
              "      <td>55</td>\n",
              "    </tr>\n",
              "    <tr>\n",
              "      <th>665033</th>\n",
              "      <td>2014</td>\n",
              "      <td>Ernesto</td>\n",
              "      <td>38</td>\n",
              "    </tr>\n",
              "    <tr>\n",
              "      <th>663685</th>\n",
              "      <td>2014</td>\n",
              "      <td>Javier</td>\n",
              "      <td>67</td>\n",
              "    </tr>\n",
              "    <tr>\n",
              "      <th>662606</th>\n",
              "      <td>2014</td>\n",
              "      <td>Jeronimo</td>\n",
              "      <td>270</td>\n",
              "    </tr>\n",
              "    <tr>\n",
              "      <th>662746</th>\n",
              "      <td>2014</td>\n",
              "      <td>Marcos</td>\n",
              "      <td>185</td>\n",
              "    </tr>\n",
              "  </tbody>\n",
              "</table>\n",
              "</div>"
            ],
            "text/plain": [
              "        anio    nombre  cantidad\n",
              "494     2010  Cristian        96\n",
              "3223    2010   Ernesto        21\n",
              "712     2010    Javier        72\n",
              "204     2010  Jeronimo       192\n",
              "182     2010    Marcos       213\n",
              "135633  2011  Cristian        63\n",
              "137090  2011   Ernesto        24\n",
              "135836  2011    Javier        50\n",
              "135224  2011    Marcos       144\n",
              "255592  2012  Cristian        84\n",
              "258462  2012   Ernesto        29\n",
              "255952  2012    Javier        67\n",
              "254660  2012  Jeronimo       289\n",
              "254692  2012    Marcos       257\n",
              "459172  2013  Cristian        72\n",
              "462262  2013   Ernesto        25\n",
              "459473  2013    Javier        60\n",
              "458165  2013  Jeronimo       257\n",
              "458246  2013    Marcos       197\n",
              "664074  2014  Cristian        55\n",
              "665033  2014   Ernesto        38\n",
              "663685  2014    Javier        67\n",
              "662606  2014  Jeronimo       270\n",
              "662746  2014    Marcos       185"
            ]
          },
          "execution_count": 27,
          "metadata": {},
          "output_type": "execute_result"
        }
      ],
      "source": [
        "nombres_compañeros=['Javier','Marcos','Cristian','Jeronimo','Ernesto']\n",
        "dataset.loc[dataset.nombre.isin(nombres_compañeros)].sort_values(by=['anio', 'nombre'],ascending=True).iloc[:, [2,0, 1]]# iloc es para ordenar las columnas"
      ]
    },
    {
      "cell_type": "markdown",
      "metadata": {
        "id": "DusS4B1avjXx"
      },
      "source": [
        "*14. Hacer una tabla que muestre por año la cantidad de veces que apareció un nombre.*"
      ]
    },
    {
      "cell_type": "code",
      "execution_count": null,
      "metadata": {
        "id": "2T6tgvtfvjXx",
        "outputId": "34ddb364-5df7-4c66-c4e7-b779004c63a2"
      },
      "outputs": [
        {
          "data": {
            "text/html": [
              "<div>\n",
              "<style scoped>\n",
              "    .dataframe tbody tr th:only-of-type {\n",
              "        vertical-align: middle;\n",
              "    }\n",
              "\n",
              "    .dataframe tbody tr th {\n",
              "        vertical-align: top;\n",
              "    }\n",
              "\n",
              "    .dataframe thead th {\n",
              "        text-align: right;\n",
              "    }\n",
              "</style>\n",
              "<table border=\"1\" class=\"dataframe\">\n",
              "  <thead>\n",
              "    <tr style=\"text-align: right;\">\n",
              "      <th>anio</th>\n",
              "      <th>2010</th>\n",
              "      <th>2011</th>\n",
              "      <th>2012</th>\n",
              "      <th>2013</th>\n",
              "      <th>2014</th>\n",
              "    </tr>\n",
              "    <tr>\n",
              "      <th>nombre</th>\n",
              "      <th></th>\n",
              "      <th></th>\n",
              "      <th></th>\n",
              "      <th></th>\n",
              "      <th></th>\n",
              "    </tr>\n",
              "  </thead>\n",
              "  <tbody>\n",
              "    <tr>\n",
              "      <th>Melody Antonella</th>\n",
              "      <td>NaN</td>\n",
              "      <td>NaN</td>\n",
              "      <td>NaN</td>\n",
              "      <td>NaN</td>\n",
              "      <td>1.0</td>\n",
              "    </tr>\n",
              "    <tr>\n",
              "      <th>Ian</th>\n",
              "      <td>NaN</td>\n",
              "      <td>NaN</td>\n",
              "      <td>1.0</td>\n",
              "      <td>NaN</td>\n",
              "      <td>NaN</td>\n",
              "    </tr>\n",
              "    <tr>\n",
              "      <th>Ludmila    Victoria</th>\n",
              "      <td>NaN</td>\n",
              "      <td>NaN</td>\n",
              "      <td>1.0</td>\n",
              "      <td>NaN</td>\n",
              "      <td>NaN</td>\n",
              "    </tr>\n",
              "    <tr>\n",
              "      <th>Mia</th>\n",
              "      <td>1.0</td>\n",
              "      <td>NaN</td>\n",
              "      <td>NaN</td>\n",
              "      <td>NaN</td>\n",
              "      <td>NaN</td>\n",
              "    </tr>\n",
              "    <tr>\n",
              "      <th>Teo</th>\n",
              "      <td>NaN</td>\n",
              "      <td>2.0</td>\n",
              "      <td>NaN</td>\n",
              "      <td>NaN</td>\n",
              "      <td>NaN</td>\n",
              "    </tr>\n",
              "  </tbody>\n",
              "</table>\n",
              "</div>"
            ],
            "text/plain": [
              "anio                       2010  2011  2012  2013  2014\n",
              "nombre                                                 \n",
              "        Melody Antonella    NaN   NaN   NaN   NaN   1.0\n",
              "      Ian                   NaN   NaN   1.0   NaN   NaN\n",
              "      Ludmila    Victoria   NaN   NaN   1.0   NaN   NaN\n",
              "      Mia                   1.0   NaN   NaN   NaN   NaN\n",
              "      Teo                   NaN   2.0   NaN   NaN   NaN"
            ]
          },
          "execution_count": 9,
          "metadata": {},
          "output_type": "execute_result"
        }
      ],
      "source": [
        "dataset.pivot_table(values='cantidad',index=['nombre'],columns=['anio']).head()\n",
        "#dataset.pivot_table(values='cantidad',index=['nombre'],columns=['anio'])"
      ]
    },
    {
      "cell_type": "markdown",
      "metadata": {
        "id": "WTLZ1SPJvjXx"
      },
      "source": [
        "*15. Separar por año (2011,2012,2013,2014) los grupos y responder:*\n",
        "\n",
        " ¿Cuántos nombres únicos hay en el año que les tocó? ¿Cuántos nombres únicos hay en el total del dataset?,\n",
        " \n",
        " Comparar los nombres en el año que les tocó y los del dataset en general y mostrar los que NO APARECEN en el año que les tocó."
      ]
    },
    {
      "cell_type": "code",
      "execution_count": null,
      "metadata": {
        "id": "gb9wa5zHvjXy",
        "outputId": "2ebde0d0-e76a-42f1-f9a3-d98c5a27bacf"
      },
      "outputs": [
        {
          "name": "stdout",
          "output_type": "stream",
          "text": [
            "119431\n"
          ]
        }
      ],
      "source": [
        "nombres_2011=dataset.loc[dataset['anio']==2011]\n",
        "print(len(nombres_2011['nombre'].unique()))"
      ]
    },
    {
      "cell_type": "code",
      "execution_count": null,
      "metadata": {
        "id": "OX2RiO0bvjXy",
        "outputId": "63e5e380-fb82-492d-ab66-d2ca117df898"
      },
      "outputs": [
        {
          "data": {
            "text/html": [
              "<div>\n",
              "<style scoped>\n",
              "    .dataframe tbody tr th:only-of-type {\n",
              "        vertical-align: middle;\n",
              "    }\n",
              "\n",
              "    .dataframe tbody tr th {\n",
              "        vertical-align: top;\n",
              "    }\n",
              "\n",
              "    .dataframe thead th {\n",
              "        text-align: right;\n",
              "    }\n",
              "</style>\n",
              "<table border=\"1\" class=\"dataframe\">\n",
              "  <thead>\n",
              "    <tr style=\"text-align: right;\">\n",
              "      <th></th>\n",
              "      <th>nombre</th>\n",
              "      <th>cantidad</th>\n",
              "      <th>anio</th>\n",
              "    </tr>\n",
              "  </thead>\n",
              "  <tbody>\n",
              "    <tr>\n",
              "      <th>135000</th>\n",
              "      <td>Benjamin</td>\n",
              "      <td>2535</td>\n",
              "      <td>2011</td>\n",
              "    </tr>\n",
              "    <tr>\n",
              "      <th>135001</th>\n",
              "      <td>Sofia</td>\n",
              "      <td>1870</td>\n",
              "      <td>2011</td>\n",
              "    </tr>\n",
              "    <tr>\n",
              "      <th>135002</th>\n",
              "      <td>Joaquin</td>\n",
              "      <td>1825</td>\n",
              "      <td>2011</td>\n",
              "    </tr>\n",
              "    <tr>\n",
              "      <th>135003</th>\n",
              "      <td>Martina</td>\n",
              "      <td>1817</td>\n",
              "      <td>2011</td>\n",
              "    </tr>\n",
              "    <tr>\n",
              "      <th>135004</th>\n",
              "      <td>Bautista</td>\n",
              "      <td>1782</td>\n",
              "      <td>2011</td>\n",
              "    </tr>\n",
              "    <tr>\n",
              "      <th>135005</th>\n",
              "      <td>Catalina</td>\n",
              "      <td>1665</td>\n",
              "      <td>2011</td>\n",
              "    </tr>\n",
              "    <tr>\n",
              "      <th>135006</th>\n",
              "      <td>Santino</td>\n",
              "      <td>1607</td>\n",
              "      <td>2011</td>\n",
              "    </tr>\n",
              "    <tr>\n",
              "      <th>135007</th>\n",
              "      <td>Santiago</td>\n",
              "      <td>1604</td>\n",
              "      <td>2011</td>\n",
              "    </tr>\n",
              "    <tr>\n",
              "      <th>135008</th>\n",
              "      <td>Juan Ignacio</td>\n",
              "      <td>1514</td>\n",
              "      <td>2011</td>\n",
              "    </tr>\n",
              "    <tr>\n",
              "      <th>135009</th>\n",
              "      <td>Valentina</td>\n",
              "      <td>1502</td>\n",
              "      <td>2011</td>\n",
              "    </tr>\n",
              "  </tbody>\n",
              "</table>\n",
              "</div>"
            ],
            "text/plain": [
              "              nombre  cantidad  anio\n",
              "135000      Benjamin      2535  2011\n",
              "135001         Sofia      1870  2011\n",
              "135002       Joaquin      1825  2011\n",
              "135003       Martina      1817  2011\n",
              "135004      Bautista      1782  2011\n",
              "135005      Catalina      1665  2011\n",
              "135006       Santino      1607  2011\n",
              "135007      Santiago      1604  2011\n",
              "135008  Juan Ignacio      1514  2011\n",
              "135009     Valentina      1502  2011"
            ]
          },
          "execution_count": 16,
          "metadata": {},
          "output_type": "execute_result"
        }
      ],
      "source": [
        "nombres_2011.head(10)"
      ]
    },
    {
      "cell_type": "code",
      "execution_count": null,
      "metadata": {
        "id": "ltpkXmfxvjXy",
        "outputId": "6a924a89-bf9b-408d-c538-dfa262c473ea"
      },
      "outputs": [
        {
          "name": "stdout",
          "output_type": "stream",
          "text": [
            "593141\n"
          ]
        }
      ],
      "source": [
        "nombres_unicos =dataset['nombre'].unique()\n",
        "print(len(nombres_unicos))\n",
        "# nombres_unicos"
      ]
    },
    {
      "cell_type": "code",
      "execution_count": null,
      "metadata": {
        "id": "2vsk_AZSvjXy",
        "outputId": "8f1cec86-b856-433b-a0d1-f94a184fc110"
      },
      "outputs": [
        {
          "name": "stdout",
          "output_type": "stream",
          "text": [
            "473710\n"
          ]
        }
      ],
      "source": [
        "print(len(dataset['nombre'].unique())-len(nombres_2011['nombre'].unique()))"
      ]
    },
    {
      "cell_type": "code",
      "execution_count": null,
      "metadata": {
        "id": "l0_oKo8bvjXz",
        "outputId": "a64fa88c-e1ef-4fef-ff1e-2c9fef90323e"
      },
      "outputs": [
        {
          "data": {
            "text/html": [
              "<div>\n",
              "<style scoped>\n",
              "    .dataframe tbody tr th:only-of-type {\n",
              "        vertical-align: middle;\n",
              "    }\n",
              "\n",
              "    .dataframe tbody tr th {\n",
              "        vertical-align: top;\n",
              "    }\n",
              "\n",
              "    .dataframe thead th {\n",
              "        text-align: right;\n",
              "    }\n",
              "</style>\n",
              "<table border=\"1\" class=\"dataframe\">\n",
              "  <thead>\n",
              "    <tr style=\"text-align: right;\">\n",
              "      <th></th>\n",
              "      <th>nombre</th>\n",
              "      <th>cantidad</th>\n",
              "      <th>anio</th>\n",
              "    </tr>\n",
              "  </thead>\n",
              "  <tbody>\n",
              "    <tr>\n",
              "      <th>3</th>\n",
              "      <td>Joaquín</td>\n",
              "      <td>2111</td>\n",
              "      <td>2010</td>\n",
              "    </tr>\n",
              "    <tr>\n",
              "      <th>13</th>\n",
              "      <td>Agustín</td>\n",
              "      <td>1341</td>\n",
              "      <td>2010</td>\n",
              "    </tr>\n",
              "    <tr>\n",
              "      <th>15</th>\n",
              "      <td>Tomàs</td>\n",
              "      <td>1315</td>\n",
              "      <td>2010</td>\n",
              "    </tr>\n",
              "    <tr>\n",
              "      <th>23</th>\n",
              "      <td>Lucía</td>\n",
              "      <td>1101</td>\n",
              "      <td>2010</td>\n",
              "    </tr>\n",
              "    <tr>\n",
              "      <th>30</th>\n",
              "      <td>Mia</td>\n",
              "      <td>965</td>\n",
              "      <td>2010</td>\n",
              "    </tr>\n",
              "    <tr>\n",
              "      <th>48</th>\n",
              "      <td>OLIVIA</td>\n",
              "      <td>686</td>\n",
              "      <td>2010</td>\n",
              "    </tr>\n",
              "    <tr>\n",
              "      <th>63</th>\n",
              "      <td>Martín</td>\n",
              "      <td>530</td>\n",
              "      <td>2010</td>\n",
              "    </tr>\n",
              "    <tr>\n",
              "      <th>74</th>\n",
              "      <td>Mia Jazmín</td>\n",
              "      <td>446</td>\n",
              "      <td>2010</td>\n",
              "    </tr>\n",
              "    <tr>\n",
              "      <th>96</th>\n",
              "      <td>Micaela</td>\n",
              "      <td>368</td>\n",
              "      <td>2010</td>\n",
              "    </tr>\n",
              "    <tr>\n",
              "      <th>100</th>\n",
              "      <td>Zoe</td>\n",
              "      <td>353</td>\n",
              "      <td>2010</td>\n",
              "    </tr>\n",
              "    <tr>\n",
              "      <th>106</th>\n",
              "      <td>Tomas Agustin</td>\n",
              "      <td>328</td>\n",
              "      <td>2010</td>\n",
              "    </tr>\n",
              "    <tr>\n",
              "      <th>120</th>\n",
              "      <td>Lautaro Agustin</td>\n",
              "      <td>306</td>\n",
              "      <td>2010</td>\n",
              "    </tr>\n",
              "    <tr>\n",
              "      <th>123</th>\n",
              "      <td>Maria Pia</td>\n",
              "      <td>291</td>\n",
              "      <td>2010</td>\n",
              "    </tr>\n",
              "    <tr>\n",
              "      <th>124</th>\n",
              "      <td>Matías Ezequiel</td>\n",
              "      <td>290</td>\n",
              "      <td>2010</td>\n",
              "    </tr>\n",
              "    <tr>\n",
              "      <th>132</th>\n",
              "      <td>Santiago Agustín</td>\n",
              "      <td>266</td>\n",
              "      <td>2010</td>\n",
              "    </tr>\n",
              "    <tr>\n",
              "      <th>141</th>\n",
              "      <td>Ana</td>\n",
              "      <td>259</td>\n",
              "      <td>2010</td>\n",
              "    </tr>\n",
              "    <tr>\n",
              "      <th>142</th>\n",
              "      <td>Juan Francisco</td>\n",
              "      <td>257</td>\n",
              "      <td>2010</td>\n",
              "    </tr>\n",
              "    <tr>\n",
              "      <th>167</th>\n",
              "      <td>León</td>\n",
              "      <td>223</td>\n",
              "      <td>2010</td>\n",
              "    </tr>\n",
              "    <tr>\n",
              "      <th>171</th>\n",
              "      <td>Rocio</td>\n",
              "      <td>220</td>\n",
              "      <td>2010</td>\n",
              "    </tr>\n",
              "    <tr>\n",
              "      <th>174</th>\n",
              "      <td>Ema</td>\n",
              "      <td>218</td>\n",
              "      <td>2010</td>\n",
              "    </tr>\n",
              "    <tr>\n",
              "      <th>180</th>\n",
              "      <td>Sofía Jazmín</td>\n",
              "      <td>214</td>\n",
              "      <td>2010</td>\n",
              "    </tr>\n",
              "    <tr>\n",
              "      <th>183</th>\n",
              "      <td>Angel Gabriel</td>\n",
              "      <td>212</td>\n",
              "      <td>2010</td>\n",
              "    </tr>\n",
              "    <tr>\n",
              "      <th>187</th>\n",
              "      <td>Joaquin Ezequiel</td>\n",
              "      <td>205</td>\n",
              "      <td>2010</td>\n",
              "    </tr>\n",
              "    <tr>\n",
              "      <th>188</th>\n",
              "      <td>Jonas</td>\n",
              "      <td>205</td>\n",
              "      <td>2010</td>\n",
              "    </tr>\n",
              "    <tr>\n",
              "      <th>192</th>\n",
              "      <td>Ana Lucia</td>\n",
              "      <td>200</td>\n",
              "      <td>2010</td>\n",
              "    </tr>\n",
              "    <tr>\n",
              "      <th>197</th>\n",
              "      <td>BENJAMIN ALEJANDRO</td>\n",
              "      <td>197</td>\n",
              "      <td>2010</td>\n",
              "    </tr>\n",
              "    <tr>\n",
              "      <th>200</th>\n",
              "      <td>Matias Nicolas</td>\n",
              "      <td>195</td>\n",
              "      <td>2010</td>\n",
              "    </tr>\n",
              "    <tr>\n",
              "      <th>204</th>\n",
              "      <td>Jeronimo</td>\n",
              "      <td>192</td>\n",
              "      <td>2010</td>\n",
              "    </tr>\n",
              "    <tr>\n",
              "      <th>209</th>\n",
              "      <td>Agustín Ezequiel</td>\n",
              "      <td>189</td>\n",
              "      <td>2010</td>\n",
              "    </tr>\n",
              "    <tr>\n",
              "      <th>218</th>\n",
              "      <td>Luz</td>\n",
              "      <td>182</td>\n",
              "      <td>2010</td>\n",
              "    </tr>\n",
              "    <tr>\n",
              "      <th>...</th>\n",
              "      <td>...</td>\n",
              "      <td>...</td>\n",
              "      <td>...</td>\n",
              "    </tr>\n",
              "    <tr>\n",
              "      <th>871461</th>\n",
              "      <td>Thiago Romeo Josue</td>\n",
              "      <td>1</td>\n",
              "      <td>2014</td>\n",
              "    </tr>\n",
              "    <tr>\n",
              "      <th>871462</th>\n",
              "      <td>Gaston Claudio</td>\n",
              "      <td>1</td>\n",
              "      <td>2014</td>\n",
              "    </tr>\n",
              "    <tr>\n",
              "      <th>871463</th>\n",
              "      <td>Gonzalo Marcos Damián</td>\n",
              "      <td>1</td>\n",
              "      <td>2014</td>\n",
              "    </tr>\n",
              "    <tr>\n",
              "      <th>871464</th>\n",
              "      <td>Octavio Pedro Valentin</td>\n",
              "      <td>1</td>\n",
              "      <td>2014</td>\n",
              "    </tr>\n",
              "    <tr>\n",
              "      <th>871465</th>\n",
              "      <td>Brittany Shamyra Xiomara</td>\n",
              "      <td>1</td>\n",
              "      <td>2014</td>\n",
              "    </tr>\n",
              "    <tr>\n",
              "      <th>871466</th>\n",
              "      <td>Yago Caetano</td>\n",
              "      <td>1</td>\n",
              "      <td>2014</td>\n",
              "    </tr>\n",
              "    <tr>\n",
              "      <th>871467</th>\n",
              "      <td>Olga Maria Jose</td>\n",
              "      <td>1</td>\n",
              "      <td>2014</td>\n",
              "    </tr>\n",
              "    <tr>\n",
              "      <th>871468</th>\n",
              "      <td>Yobana Alejandra</td>\n",
              "      <td>1</td>\n",
              "      <td>2014</td>\n",
              "    </tr>\n",
              "    <tr>\n",
              "      <th>871469</th>\n",
              "      <td>Wendy Leticia</td>\n",
              "      <td>1</td>\n",
              "      <td>2014</td>\n",
              "    </tr>\n",
              "    <tr>\n",
              "      <th>871470</th>\n",
              "      <td>Erick Bladimir</td>\n",
              "      <td>1</td>\n",
              "      <td>2014</td>\n",
              "    </tr>\n",
              "    <tr>\n",
              "      <th>871471</th>\n",
              "      <td>Andrea Paloma</td>\n",
              "      <td>1</td>\n",
              "      <td>2014</td>\n",
              "    </tr>\n",
              "    <tr>\n",
              "      <th>871472</th>\n",
              "      <td>Noah Abril</td>\n",
              "      <td>1</td>\n",
              "      <td>2014</td>\n",
              "    </tr>\n",
              "    <tr>\n",
              "      <th>871474</th>\n",
              "      <td>Emilce Ivana Itati</td>\n",
              "      <td>1</td>\n",
              "      <td>2014</td>\n",
              "    </tr>\n",
              "    <tr>\n",
              "      <th>871475</th>\n",
              "      <td>Gimena Mariam</td>\n",
              "      <td>1</td>\n",
              "      <td>2014</td>\n",
              "    </tr>\n",
              "    <tr>\n",
              "      <th>871476</th>\n",
              "      <td>Rubí Ariana Mailén</td>\n",
              "      <td>1</td>\n",
              "      <td>2014</td>\n",
              "    </tr>\n",
              "    <tr>\n",
              "      <th>871477</th>\n",
              "      <td>Brandon Yamir Arón</td>\n",
              "      <td>1</td>\n",
              "      <td>2014</td>\n",
              "    </tr>\n",
              "    <tr>\n",
              "      <th>871478</th>\n",
              "      <td>Nailen Sol</td>\n",
              "      <td>1</td>\n",
              "      <td>2014</td>\n",
              "    </tr>\n",
              "    <tr>\n",
              "      <th>871480</th>\n",
              "      <td>Anabella Jaia</td>\n",
              "      <td>1</td>\n",
              "      <td>2014</td>\n",
              "    </tr>\n",
              "    <tr>\n",
              "      <th>871481</th>\n",
              "      <td>Johann Uriel</td>\n",
              "      <td>1</td>\n",
              "      <td>2014</td>\n",
              "    </tr>\n",
              "    <tr>\n",
              "      <th>871482</th>\n",
              "      <td>Pedro Samir</td>\n",
              "      <td>1</td>\n",
              "      <td>2014</td>\n",
              "    </tr>\n",
              "    <tr>\n",
              "      <th>871483</th>\n",
              "      <td>Leslie Aynelen</td>\n",
              "      <td>1</td>\n",
              "      <td>2014</td>\n",
              "    </tr>\n",
              "    <tr>\n",
              "      <th>871484</th>\n",
              "      <td>Etan Isaías</td>\n",
              "      <td>1</td>\n",
              "      <td>2014</td>\n",
              "    </tr>\n",
              "    <tr>\n",
              "      <th>871486</th>\n",
              "      <td>Angel Yoshi Gregorio</td>\n",
              "      <td>1</td>\n",
              "      <td>2014</td>\n",
              "    </tr>\n",
              "    <tr>\n",
              "      <th>871487</th>\n",
              "      <td>Daniela Jesica Florencia</td>\n",
              "      <td>1</td>\n",
              "      <td>2014</td>\n",
              "    </tr>\n",
              "    <tr>\n",
              "      <th>871488</th>\n",
              "      <td>Génesis Maité Guadalupe</td>\n",
              "      <td>1</td>\n",
              "      <td>2014</td>\n",
              "    </tr>\n",
              "    <tr>\n",
              "      <th>871489</th>\n",
              "      <td>Leire Jasmin</td>\n",
              "      <td>1</td>\n",
              "      <td>2014</td>\n",
              "    </tr>\n",
              "    <tr>\n",
              "      <th>871490</th>\n",
              "      <td>Isaias Sebastian Ariel</td>\n",
              "      <td>1</td>\n",
              "      <td>2014</td>\n",
              "    </tr>\n",
              "    <tr>\n",
              "      <th>871491</th>\n",
              "      <td>Yanira Valentina</td>\n",
              "      <td>1</td>\n",
              "      <td>2014</td>\n",
              "    </tr>\n",
              "    <tr>\n",
              "      <th>871492</th>\n",
              "      <td>Angie Ainara</td>\n",
              "      <td>1</td>\n",
              "      <td>2014</td>\n",
              "    </tr>\n",
              "    <tr>\n",
              "      <th>871493</th>\n",
              "      <td>Elias Hernando</td>\n",
              "      <td>1</td>\n",
              "      <td>2014</td>\n",
              "    </tr>\n",
              "  </tbody>\n",
              "</table>\n",
              "<p>581818 rows × 3 columns</p>\n",
              "</div>"
            ],
            "text/plain": [
              "                          nombre  cantidad  anio\n",
              "3                        Joaquín      2111  2010\n",
              "13                       Agustín      1341  2010\n",
              "15                         Tomàs      1315  2010\n",
              "23                        Lucía       1101  2010\n",
              "30                          Mia        965  2010\n",
              "48                        OLIVIA       686  2010\n",
              "63                        Martín       530  2010\n",
              "74                    Mia Jazmín       446  2010\n",
              "96                       Micaela       368  2010\n",
              "100                          Zoe       353  2010\n",
              "106                Tomas Agustin       328  2010\n",
              "120              Lautaro Agustin       306  2010\n",
              "123                    Maria Pia       291  2010\n",
              "124              Matías Ezequiel       290  2010\n",
              "132             Santiago Agustín       266  2010\n",
              "141                          Ana       259  2010\n",
              "142               Juan Francisco       257  2010\n",
              "167                         León       223  2010\n",
              "171                        Rocio       220  2010\n",
              "174                       Ema          218  2010\n",
              "180                 Sofía Jazmín       214  2010\n",
              "183                Angel Gabriel       212  2010\n",
              "187             Joaquin Ezequiel       205  2010\n",
              "188                        Jonas       205  2010\n",
              "192                    Ana Lucia       200  2010\n",
              "197           BENJAMIN ALEJANDRO       197  2010\n",
              "200               Matias Nicolas       195  2010\n",
              "204                     Jeronimo       192  2010\n",
              "209             Agustín Ezequiel       189  2010\n",
              "218                         Luz        182  2010\n",
              "...                          ...       ...   ...\n",
              "871461        Thiago Romeo Josue         1  2014\n",
              "871462            Gaston Claudio         1  2014\n",
              "871463     Gonzalo Marcos Damián         1  2014\n",
              "871464    Octavio Pedro Valentin         1  2014\n",
              "871465  Brittany Shamyra Xiomara         1  2014\n",
              "871466              Yago Caetano         1  2014\n",
              "871467           Olga Maria Jose         1  2014\n",
              "871468          Yobana Alejandra         1  2014\n",
              "871469             Wendy Leticia         1  2014\n",
              "871470            Erick Bladimir         1  2014\n",
              "871471             Andrea Paloma         1  2014\n",
              "871472                Noah Abril         1  2014\n",
              "871474        Emilce Ivana Itati         1  2014\n",
              "871475             Gimena Mariam         1  2014\n",
              "871476        Rubí Ariana Mailén         1  2014\n",
              "871477        Brandon Yamir Arón         1  2014\n",
              "871478                Nailen Sol         1  2014\n",
              "871480             Anabella Jaia         1  2014\n",
              "871481              Johann Uriel         1  2014\n",
              "871482               Pedro Samir         1  2014\n",
              "871483            Leslie Aynelen         1  2014\n",
              "871484               Etan Isaías         1  2014\n",
              "871486      Angel Yoshi Gregorio         1  2014\n",
              "871487  Daniela Jesica Florencia         1  2014\n",
              "871488   Génesis Maité Guadalupe         1  2014\n",
              "871489              Leire Jasmin         1  2014\n",
              "871490    Isaias Sebastian Ariel         1  2014\n",
              "871491          Yanira Valentina         1  2014\n",
              "871492              Angie Ainara         1  2014\n",
              "871493            Elias Hernando         1  2014\n",
              "\n",
              "[581818 rows x 3 columns]"
            ]
          },
          "execution_count": 19,
          "metadata": {},
          "output_type": "execute_result"
        }
      ],
      "source": [
        "dataset[~dataset['nombre'].isin(nombres_2011['nombre'])] # mostrar los que NO APARECEN en el año que les tocó.\n",
        "# dataset[np.logical_not(dataset['nombre'].isin(nombres_2011['nombre']))] # otra opcion"
      ]
    },
    {
      "cell_type": "markdown",
      "metadata": {
        "id": "DY3CG2z2vjXz"
      },
      "source": [
        "*16. Hacer una tabla que muestre las 4 primeras instancias de la tabla original.*"
      ]
    },
    {
      "cell_type": "code",
      "execution_count": null,
      "metadata": {
        "id": "Qokpq0aGvjXz",
        "outputId": "9ac4955a-57c8-413b-9450-b1117cef2af8"
      },
      "outputs": [
        {
          "data": {
            "text/html": [
              "<div>\n",
              "<style scoped>\n",
              "    .dataframe tbody tr th:only-of-type {\n",
              "        vertical-align: middle;\n",
              "    }\n",
              "\n",
              "    .dataframe tbody tr th {\n",
              "        vertical-align: top;\n",
              "    }\n",
              "\n",
              "    .dataframe thead th {\n",
              "        text-align: right;\n",
              "    }\n",
              "</style>\n",
              "<table border=\"1\" class=\"dataframe\">\n",
              "  <thead>\n",
              "    <tr style=\"text-align: right;\">\n",
              "      <th></th>\n",
              "      <th>nombre</th>\n",
              "      <th>cantidad</th>\n",
              "      <th>anio</th>\n",
              "    </tr>\n",
              "  </thead>\n",
              "  <tbody>\n",
              "    <tr>\n",
              "      <th>135000</th>\n",
              "      <td>Benjamin</td>\n",
              "      <td>2535</td>\n",
              "      <td>2011</td>\n",
              "    </tr>\n",
              "    <tr>\n",
              "      <th>135001</th>\n",
              "      <td>Sofia</td>\n",
              "      <td>1870</td>\n",
              "      <td>2011</td>\n",
              "    </tr>\n",
              "    <tr>\n",
              "      <th>135002</th>\n",
              "      <td>Joaquin</td>\n",
              "      <td>1825</td>\n",
              "      <td>2011</td>\n",
              "    </tr>\n",
              "    <tr>\n",
              "      <th>135003</th>\n",
              "      <td>Martina</td>\n",
              "      <td>1817</td>\n",
              "      <td>2011</td>\n",
              "    </tr>\n",
              "  </tbody>\n",
              "</table>\n",
              "</div>"
            ],
            "text/plain": [
              "          nombre  cantidad  anio\n",
              "135000  Benjamin      2535  2011\n",
              "135001     Sofia      1870  2011\n",
              "135002   Joaquin      1825  2011\n",
              "135003   Martina      1817  2011"
            ]
          },
          "execution_count": 20,
          "metadata": {},
          "output_type": "execute_result"
        }
      ],
      "source": [
        "nombres_2011_subset=nombres_2011.copy()\n",
        "nombres_2011_subset=nombres_2011_subset.iloc[0:4,:]\n",
        "# nombres_2011_subset=nombres_2011_subset.set_index([pd.Index([1, 2, 3, 4])\n",
        "nombres_2011_subset.head()"
      ]
    },
    {
      "cell_type": "markdown",
      "metadata": {
        "id": "oy8yWQRcvjXz"
      },
      "source": [
        "*17. Hacer un subset de los tres primeros nombres*\n",
        "\n",
        "Vamos a ver la diferencia entre loc y iloc "
      ]
    },
    {
      "cell_type": "code",
      "execution_count": null,
      "metadata": {
        "id": "zzHCALcCvjXz",
        "outputId": "83eeeb4a-3a69-4a5b-f5fb-5a2380872848"
      },
      "outputs": [
        {
          "data": {
            "text/html": [
              "<div>\n",
              "<style scoped>\n",
              "    .dataframe tbody tr th:only-of-type {\n",
              "        vertical-align: middle;\n",
              "    }\n",
              "\n",
              "    .dataframe tbody tr th {\n",
              "        vertical-align: top;\n",
              "    }\n",
              "\n",
              "    .dataframe thead th {\n",
              "        text-align: right;\n",
              "    }\n",
              "</style>\n",
              "<table border=\"1\" class=\"dataframe\">\n",
              "  <thead>\n",
              "    <tr style=\"text-align: right;\">\n",
              "      <th></th>\n",
              "      <th>index</th>\n",
              "      <th>nombre</th>\n",
              "      <th>cantidad</th>\n",
              "      <th>anio</th>\n",
              "    </tr>\n",
              "  </thead>\n",
              "  <tbody>\n",
              "    <tr>\n",
              "      <th>0</th>\n",
              "      <td>135000</td>\n",
              "      <td>Benjamin</td>\n",
              "      <td>2535</td>\n",
              "      <td>2011</td>\n",
              "    </tr>\n",
              "    <tr>\n",
              "      <th>1</th>\n",
              "      <td>135001</td>\n",
              "      <td>Sofia</td>\n",
              "      <td>1870</td>\n",
              "      <td>2011</td>\n",
              "    </tr>\n",
              "    <tr>\n",
              "      <th>2</th>\n",
              "      <td>135002</td>\n",
              "      <td>Joaquin</td>\n",
              "      <td>1825</td>\n",
              "      <td>2011</td>\n",
              "    </tr>\n",
              "    <tr>\n",
              "      <th>3</th>\n",
              "      <td>135003</td>\n",
              "      <td>Martina</td>\n",
              "      <td>1817</td>\n",
              "      <td>2011</td>\n",
              "    </tr>\n",
              "  </tbody>\n",
              "</table>\n",
              "</div>"
            ],
            "text/plain": [
              "    index    nombre  cantidad  anio\n",
              "0  135000  Benjamin      2535  2011\n",
              "1  135001     Sofia      1870  2011\n",
              "2  135002   Joaquin      1825  2011\n",
              "3  135003   Martina      1817  2011"
            ]
          },
          "execution_count": 21,
          "metadata": {},
          "output_type": "execute_result"
        }
      ],
      "source": [
        "nombres_2011_subset.reset_index(inplace=True) # inplace = true hace la funcion en el mismo dataframe\n",
        "nombres_2011_subset.head()"
      ]
    },
    {
      "cell_type": "code",
      "execution_count": null,
      "metadata": {
        "id": "L3rISOlmvjX0",
        "outputId": "cae34df6-0e63-4975-8205-1f89c88e2ea7"
      },
      "outputs": [
        {
          "data": {
            "text/html": [
              "<div>\n",
              "<style scoped>\n",
              "    .dataframe tbody tr th:only-of-type {\n",
              "        vertical-align: middle;\n",
              "    }\n",
              "\n",
              "    .dataframe tbody tr th {\n",
              "        vertical-align: top;\n",
              "    }\n",
              "\n",
              "    .dataframe thead th {\n",
              "        text-align: right;\n",
              "    }\n",
              "</style>\n",
              "<table border=\"1\" class=\"dataframe\">\n",
              "  <thead>\n",
              "    <tr style=\"text-align: right;\">\n",
              "      <th></th>\n",
              "      <th>nombre</th>\n",
              "      <th>cantidad</th>\n",
              "      <th>anio</th>\n",
              "    </tr>\n",
              "  </thead>\n",
              "  <tbody>\n",
              "    <tr>\n",
              "      <th>0</th>\n",
              "      <td>Benjamin</td>\n",
              "      <td>2535</td>\n",
              "      <td>2011</td>\n",
              "    </tr>\n",
              "    <tr>\n",
              "      <th>1</th>\n",
              "      <td>Sofia</td>\n",
              "      <td>1870</td>\n",
              "      <td>2011</td>\n",
              "    </tr>\n",
              "    <tr>\n",
              "      <th>2</th>\n",
              "      <td>Joaquin</td>\n",
              "      <td>1825</td>\n",
              "      <td>2011</td>\n",
              "    </tr>\n",
              "    <tr>\n",
              "      <th>3</th>\n",
              "      <td>Martina</td>\n",
              "      <td>1817</td>\n",
              "      <td>2011</td>\n",
              "    </tr>\n",
              "  </tbody>\n",
              "</table>\n",
              "</div>"
            ],
            "text/plain": [
              "     nombre  cantidad  anio\n",
              "0  Benjamin      2535  2011\n",
              "1     Sofia      1870  2011\n",
              "2   Joaquin      1825  2011\n",
              "3   Martina      1817  2011"
            ]
          },
          "execution_count": 22,
          "metadata": {},
          "output_type": "execute_result"
        }
      ],
      "source": [
        "nombres_2011_subset.drop(['index'],axis=1,inplace=True)\n",
        "nombres_2011_subset.head()"
      ]
    },
    {
      "cell_type": "code",
      "execution_count": null,
      "metadata": {
        "id": "3g75BwqCvjX0"
      },
      "outputs": [],
      "source": [
        "nombres_2011_subset['Indice']=[1,2,3,4]\n",
        "# new_index=[1,2,3,4]"
      ]
    },
    {
      "cell_type": "code",
      "execution_count": null,
      "metadata": {
        "id": "yk2LfbvtvjX0",
        "outputId": "f159a926-a503-497a-a6af-c136afb507b2"
      },
      "outputs": [
        {
          "data": {
            "text/html": [
              "<div>\n",
              "<style scoped>\n",
              "    .dataframe tbody tr th:only-of-type {\n",
              "        vertical-align: middle;\n",
              "    }\n",
              "\n",
              "    .dataframe tbody tr th {\n",
              "        vertical-align: top;\n",
              "    }\n",
              "\n",
              "    .dataframe thead th {\n",
              "        text-align: right;\n",
              "    }\n",
              "</style>\n",
              "<table border=\"1\" class=\"dataframe\">\n",
              "  <thead>\n",
              "    <tr style=\"text-align: right;\">\n",
              "      <th></th>\n",
              "      <th>nombre</th>\n",
              "      <th>cantidad</th>\n",
              "      <th>anio</th>\n",
              "      <th>Indice</th>\n",
              "    </tr>\n",
              "  </thead>\n",
              "  <tbody>\n",
              "    <tr>\n",
              "      <th>0</th>\n",
              "      <td>Benjamin</td>\n",
              "      <td>2535</td>\n",
              "      <td>2011</td>\n",
              "      <td>1</td>\n",
              "    </tr>\n",
              "    <tr>\n",
              "      <th>1</th>\n",
              "      <td>Sofia</td>\n",
              "      <td>1870</td>\n",
              "      <td>2011</td>\n",
              "      <td>2</td>\n",
              "    </tr>\n",
              "    <tr>\n",
              "      <th>2</th>\n",
              "      <td>Joaquin</td>\n",
              "      <td>1825</td>\n",
              "      <td>2011</td>\n",
              "      <td>3</td>\n",
              "    </tr>\n",
              "    <tr>\n",
              "      <th>3</th>\n",
              "      <td>Martina</td>\n",
              "      <td>1817</td>\n",
              "      <td>2011</td>\n",
              "      <td>4</td>\n",
              "    </tr>\n",
              "  </tbody>\n",
              "</table>\n",
              "</div>"
            ],
            "text/plain": [
              "     nombre  cantidad  anio  Indice\n",
              "0  Benjamin      2535  2011       1\n",
              "1     Sofia      1870  2011       2\n",
              "2   Joaquin      1825  2011       3\n",
              "3   Martina      1817  2011       4"
            ]
          },
          "execution_count": 41,
          "metadata": {},
          "output_type": "execute_result"
        }
      ],
      "source": [
        "nombres_2011_subset.head()"
      ]
    },
    {
      "cell_type": "code",
      "execution_count": null,
      "metadata": {
        "id": "WyEMoa43vjX0"
      },
      "outputs": [],
      "source": [
        "nombres_2011_subset.set_index('Indice', inplace=True)"
      ]
    },
    {
      "cell_type": "code",
      "execution_count": null,
      "metadata": {
        "id": "P9-3kgHHvjX0",
        "outputId": "8bc4a8f9-a8d5-47bc-c976-04c38a1e4c61"
      },
      "outputs": [
        {
          "data": {
            "text/plain": [
              "nombre      Benjamin\n",
              "cantidad        2535\n",
              "anio            2011\n",
              "Name: 1, dtype: object"
            ]
          },
          "execution_count": 43,
          "metadata": {},
          "output_type": "execute_result"
        }
      ],
      "source": [
        "nombres_2011_subset.iloc[0] #índice implícito"
      ]
    },
    {
      "cell_type": "code",
      "execution_count": null,
      "metadata": {
        "id": "X4Dm04PXvjX0",
        "outputId": "65e59894-da3b-4436-91b9-20c9f7308669"
      },
      "outputs": [
        {
          "data": {
            "text/plain": [
              "nombre      Benjamin\n",
              "cantidad        2535\n",
              "anio            2011\n",
              "Name: 1, dtype: object"
            ]
          },
          "execution_count": 44,
          "metadata": {},
          "output_type": "execute_result"
        }
      ],
      "source": [
        "nombres_2011_subset.loc[1] #índice explícito"
      ]
    },
    {
      "cell_type": "markdown",
      "metadata": {
        "id": "u5N6Q2HhvjX1"
      },
      "source": [
        "**Nota: Recuerden que su trabajo es Darle valor a los datos**"
      ]
    }
  ],
  "metadata": {
    "kernelspec": {
      "display_name": "Python 3",
      "language": "python",
      "name": "python3"
    },
    "language_info": {
      "codemirror_mode": {
        "name": "ipython",
        "version": 3
      },
      "file_extension": ".py",
      "mimetype": "text/x-python",
      "name": "python",
      "nbconvert_exporter": "python",
      "pygments_lexer": "ipython3",
      "version": "3.7.3"
    },
    "colab": {
      "name": "Subset y group by.ipynb",
      "provenance": []
    }
  },
  "nbformat": 4,
  "nbformat_minor": 0
}